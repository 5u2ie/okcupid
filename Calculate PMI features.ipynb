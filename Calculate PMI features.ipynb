{
 "cells": [
  {
   "cell_type": "code",
   "execution_count": 42,
   "metadata": {
    "collapsed": false,
    "scrolled": true
   },
   "outputs": [
    {
     "name": "stdout",
     "output_type": "stream",
     "text": [
      "Once deleted, variables cannot be recovered. Proceed (y/[n])? y\n"
     ]
    }
   ],
   "source": [
    "%reset"
   ]
  },
  {
   "cell_type": "markdown",
   "metadata": {},
   "source": [
    "#Calculating PMI Features\n",
    "The basic algorithm is as follows:  \n",
    "1. Read in the data as pandas data frame  \n",
    "2. Combine all the essays together, remove HTML tags, remove newline characters  \n",
    "3. Tokenize all the essays using the happyfuntokenizer  \n",
    "4. Use the tokens to generate unigrams, bigrams, and trigrams. Stopwords are removed for bigrams and trigrams as well as unigrams. I felt that the bigrams and trigrams were more informative after this step. But we can add them back in if you'd like. These are stored in freqdists that come in handy for the PMI calculation.       \n",
    "5. Only keep unigrams that occur more than 3 times, bigrams with PMI > 4, and trigrams with PMI > 6. This starts building the vocabulary that will be used to vectorize the essay data.      \n",
    "6. Filter out unigrams, bigrams, and trigrams that are used by less than 1% of the users.   \n",
    "7. Use the CountVectorizer to vectorize the user data, making sure to remove stopwords, use the hft to tokenize, \n",
    "analyze using 1 to 3-grams, and the new vocabulary. The rows are normalized by the number of words a user uses in all of their essays.  \n",
    "8. The data matrix is written to a pickle file in case you don't want to run this again, but it doesn't take too long. Less than 10 minutes."
   ]
  },
  {
   "cell_type": "code",
   "execution_count": 43,
   "metadata": {
    "collapsed": false
   },
   "outputs": [],
   "source": [
    "import re\n",
    "import warnings\n",
    "import pickle \n",
    "import numpy as np\n",
    "import pandas as pd\n",
    "import matplotlib.pyplot as plt\n",
    "import seaborn as sns\n",
    "from sklearn.feature_extraction.text import TfidfVectorizer\n",
    "from sklearn.metrics.pairwise import cosine_similarity\n",
    "from sklearn.cluster import MiniBatchKMeans\n",
    "from sklearn.feature_extraction.text import CountVectorizer\n",
    "from nltk.corpus import stopwords\n",
    "from utils import *\n",
    "\n",
    "from bs4 import BeautifulSoup\n",
    "import string\n",
    "%matplotlib inline\n",
    "plt.style.use('ggplot')\n",
    "warnings.filterwarnings('ignore')"
   ]
  },
  {
   "cell_type": "code",
   "execution_count": 44,
   "metadata": {
    "collapsed": true
   },
   "outputs": [],
   "source": [
    "#Checking whether 'w not in stopwords.words('english') takes FOREVER. So I converted it to a dictionary\n",
    "#because checking whether or not w is in a list of size n takes O(n) time, but looking something up in\n",
    "#a dictionary takes O(1) time.\n",
    "stop_dict = {}\n",
    "for w in stopwords.words('english'):\n",
    "    stop_dict[w] = 1"
   ]
  },
  {
   "cell_type": "code",
   "execution_count": 45,
   "metadata": {
    "collapsed": true
   },
   "outputs": [],
   "source": [
    "#Gets done in a reasonable time, joins all the essays together into one long text\n",
    "#Also gets rid of HTML tags using the BeautifulSoup Library\n",
    "def get_data():\n",
    "    df = pd.read_csv('data/profiles.20120630.csv')\n",
    "    #print(df.columns.values )\n",
    "    def remove_nan(s):\n",
    "        if type(s) == float:\n",
    "            return ''\n",
    "        return s\n",
    "    \n",
    "    #dealing with the nan values of essays\n",
    "    essays = df.columns.values[7:17]\n",
    "    for text in essays:\n",
    "        df[text] = df[text].apply(remove_nan)\n",
    "    df['TotalEssays'] = df[essays].apply(lambda x: ' '.join(x), axis=1)\n",
    "    df['TotalEssays'] = df['TotalEssays'].apply(lambda x: BeautifulSoup(x).getText().replace('\\n', ' ')) # remove html tags\n",
    "    return df"
   ]
  },
  {
   "cell_type": "code",
   "execution_count": 46,
   "metadata": {
    "collapsed": true
   },
   "outputs": [],
   "source": [
    "#Tokenizes the concatenated essay using the hft\n",
    "def tokenize_words(df):\n",
    "    tokenizer = happyfuntokenizing.Tokenizer()\n",
    "    df['TotalEssayTokens'] = df['TotalEssays'].apply(lambda x: tokenizer.tokenize(x))\n",
    "    return df"
   ]
  },
  {
   "cell_type": "code",
   "execution_count": 47,
   "metadata": {
    "collapsed": false
   },
   "outputs": [],
   "source": [
    "#Generates freqdists for unigrams, bigrams, and trigrams\n",
    "def generate_freqdists(df, stop_dict):\n",
    "    words = df['TotalEssayTokens'].tolist()\n",
    "    words = [item for sublist in words for item in sublist]\n",
    "    words = [w.lower() for w in words if w not in string.punctuation and w.lower() not in stop_dict]\n",
    "    unigram_freq = nltk.FreqDist(words)\n",
    "    \n",
    "    bigrams = nltk.ngrams(words, 2)\n",
    "    bigram_freq = nltk.FreqDist(bigrams)\n",
    "    \n",
    "    trigrams = nltk.ngrams(words, 3)\n",
    "    trigram_freq = nltk.FreqDist(trigrams)\n",
    "    \n",
    "    return unigram_freq, bigram_freq, trigram_freq"
   ]
  },
  {
   "cell_type": "code",
   "execution_count": 48,
   "metadata": {
    "collapsed": false
   },
   "outputs": [],
   "source": [
    "#Generates a vocabularly for the count vectorizer by computing the pmi for bigrams and trigrams like the paper\n",
    "def generate_vocab(freq_dists):\n",
    "    vocab = []\n",
    "    unigram_freq = freq_dists[0]\n",
    "    for k in unigram_freq.keys():\n",
    "        if unigram_freq[k] >= 3:\n",
    "            vocab.append(k)\n",
    "    print(vocab[:10])\n",
    "    \n",
    "    vocab2 = []\n",
    "    bigram_freq = freq_dists[1]\n",
    "    unicount = sum(unigram_freq.values())\n",
    "    bicount = sum(bigram_freq.values())\n",
    "    for k in bigram_freq.keys():\n",
    "        num = bigram_freq[k] / bicount\n",
    "        denom = (unigram_freq[k[0]] / unicount) * (unigram_freq[k[1]] / unicount)\n",
    "        if num / denom > 4:\n",
    "            vocab2.append(k)\n",
    "    \n",
    "    vocab3 = []\n",
    "    trigram_freq = freq_dists[2]\n",
    "    tricount = sum(trigram_freq.values())\n",
    "    print(tricount)\n",
    "    for k in trigram_freq.keys():\n",
    "        num = trigram_freq[k] / tricount\n",
    "        denom = (unigram_freq[k[0]] / unicount) * (unigram_freq[k[1]] / unicount) * (unigram_freq[k[2]] / unicount)\n",
    "        if num / denom > 6:\n",
    "            vocab3.append(k)\n",
    "\n",
    "    return set(vocab + vocab2 + vocab3)"
   ]
  },
  {
   "cell_type": "code",
   "execution_count": 49,
   "metadata": {
    "collapsed": true
   },
   "outputs": [],
   "source": [
    "#Filters out words from the vocabulary v that are used by less than 1% of the users in the dataframe\n",
    "def filter_vocab(df, v):\n",
    "    #Every word gets a dictionary entry\n",
    "    v_dict = {}\n",
    "    for w in v:\n",
    "        v_dict[w] = 0\n",
    "    \n",
    "    #Going through every essay's unigrams, bigrams, trigrams\n",
    "    #only adding to dictionary once if they exist in that essay\n",
    "    essays = df['TotalEssayTokens'].tolist()\n",
    "    for i,e in enumerate(essays):\n",
    "        if i % 1000 == 0:\n",
    "            print(str(i))\n",
    "        words = [w.lower() for w in e if w not in string.punctuation and w.lower() not in stop_dict]\n",
    "        uni = words\n",
    "        bi = nltk.ngrams(words, 2)\n",
    "        tri = nltk.ngrams(words, 3)\n",
    "        total = set(list(uni) + list(bi) + list(tri)) #only counting once\n",
    "        for t in total:\n",
    "            if t in v_dict:\n",
    "                v_dict[t] += 1\n",
    "    #Removing words that occur in less than 599 different users           \n",
    "    final_vocab = []\n",
    "    for k in v_dict.keys():\n",
    "        if v_dict[k] >= 599:\n",
    "            if type(k) == tuple:\n",
    "                final_vocab.append(' '.join(k)) #joining bigrams and trigrams\n",
    "            else:\n",
    "                final_vocab.append(k)\n",
    "    return final_vocab"
   ]
  },
  {
   "cell_type": "code",
   "execution_count": 57,
   "metadata": {
    "collapsed": false
   },
   "outputs": [],
   "source": [
    "#Creates the data matrix, normalizes by user word count, writes the matrix to a pickle file just in case\n",
    "#returns data matrix if needed.\n",
    "def create_data_matrix(df, vocab, filename):\n",
    "    \n",
    "    count_vect = CountVectorizer(stop_words='english', tokenizer=happyfuntokenizing.Tokenizer().tokenize,\n",
    "                                 ngram_range=(1, 3), analyzer='word', vocabulary=vocab)\n",
    "    data_matrix = count_vect.fit_transform(df['TotalEssays'])\n",
    "    \n",
    "    data_matrix_dense = data_matrix.todense().astype(float)\n",
    "    \n",
    "    #Normalizing each row by the number of words that user uses\n",
    "    essays = main_df['TotalEssayTokens'].tolist()\n",
    "    for i,e in enumerate(essays):\n",
    "        data_matrix_dense[i, :] = data_matrix_dense[i, :] / len(e)\n",
    "        if i % 1000 == 0:\n",
    "            print(str(i))\n",
    "            \n",
    "    with open(filename, 'wb') as f:\n",
    "        pickle.dump(data_matrix_dense, f)\n",
    "        \n",
    "    return data_matrix\n",
    "    "
   ]
  },
  {
   "cell_type": "code",
   "execution_count": 51,
   "metadata": {
    "collapsed": false,
    "scrolled": true
   },
   "outputs": [],
   "source": [
    "main_df = get_data()"
   ]
  },
  {
   "cell_type": "code",
   "execution_count": 52,
   "metadata": {
    "collapsed": false
   },
   "outputs": [],
   "source": [
    "main_df = tokenize_words(main_df)"
   ]
  },
  {
   "cell_type": "code",
   "execution_count": 53,
   "metadata": {
    "collapsed": false
   },
   "outputs": [
    {
     "name": "stdout",
     "output_type": "stream",
     "text": [
      "finally finished with all that shit\n",
      "[(\"i'm\", 198042), ('like', 135536), ('love', 120367), ('...', 103644), ('good', 89393), ('friends', 83986), ('music', 83750), ('people', 77385), ('life', 71562), ('time', 69443)]\n",
      "\n",
      "[(('san', 'francisco'), 12042), (('family', 'friends'), 10248), (('bay', 'area'), 10236), (('friends', 'family'), 8993), (('sense', 'humor'), 8656), (('new', 'things'), 7296), (('pretty', 'much'), 6755), ((\"i'm\", 'pretty'), 6747), ((\"i'm\", 'really'), 6302), ((\"i'm\", 'looking'), 6218)]\n",
      "\n",
      "[(('making', 'people', 'laugh'), 3277), (('http', ':/', 'www'), 2593), (('meeting', 'new', 'people'), 2466), (('spend', 'lot', 'time'), 2434), ((\"i'm\", 'really', 'good'), 2159), (('trying', 'new', 'things'), 2029), (('meet', 'new', 'people'), 1876), (('pretty', 'much', 'anything'), 1771), (('www', 'youtube', 'com'), 1582), ((':/', 'www', 'youtube'), 1568)]\n"
     ]
    }
   ],
   "source": [
    "freq_dists = generate_freqdists(main_df, stop_dict)\n",
    "print(freq_dists[0].most_common(10))\n",
    "print()\n",
    "print(freq_dists[1].most_common(10))\n",
    "print()\n",
    "print(freq_dists[2].most_common(10))"
   ]
  },
  {
   "cell_type": "code",
   "execution_count": 54,
   "metadata": {
    "collapsed": false
   },
   "outputs": [
    {
     "name": "stdout",
     "output_type": "stream",
     "text": [
      "['intolerant', \"moon's\", 'fragments', 'prayer', 'wiffle', 'poised', 'introspectively', 'cypherpunk', 'male-bodied', 'collaborations']\n",
      "12620653\n"
     ]
    }
   ],
   "source": [
    "vocab = generate_vocab(freq_dists)"
   ]
  },
  {
   "cell_type": "code",
   "execution_count": 55,
   "metadata": {
    "collapsed": false,
    "scrolled": true
   },
   "outputs": [
    {
     "name": "stdout",
     "output_type": "stream",
     "text": [
      "0\n",
      "1000\n",
      "2000\n",
      "3000\n",
      "4000\n",
      "5000\n",
      "6000\n",
      "7000\n",
      "8000\n",
      "9000\n",
      "10000\n",
      "11000\n",
      "12000\n",
      "13000\n",
      "14000\n",
      "15000\n",
      "16000\n",
      "17000\n",
      "18000\n",
      "19000\n",
      "20000\n",
      "21000\n",
      "22000\n",
      "23000\n",
      "24000\n",
      "25000\n",
      "26000\n",
      "27000\n",
      "28000\n",
      "29000\n",
      "30000\n",
      "31000\n",
      "32000\n",
      "33000\n",
      "34000\n",
      "35000\n",
      "36000\n",
      "37000\n",
      "38000\n",
      "39000\n",
      "40000\n",
      "41000\n",
      "42000\n",
      "43000\n",
      "44000\n",
      "45000\n",
      "46000\n",
      "47000\n",
      "48000\n",
      "49000\n",
      "50000\n",
      "51000\n",
      "52000\n",
      "53000\n",
      "54000\n",
      "55000\n",
      "56000\n",
      "57000\n",
      "58000\n",
      "59000\n"
     ]
    }
   ],
   "source": [
    "vocab = filter_vocab(main_df, vocab)"
   ]
  },
  {
   "cell_type": "code",
   "execution_count": 58,
   "metadata": {
    "collapsed": false,
    "scrolled": true
   },
   "outputs": [
    {
     "name": "stdout",
     "output_type": "stream",
     "text": [
      "0\n",
      "1000\n",
      "2000\n",
      "3000\n",
      "4000\n",
      "5000\n",
      "6000\n",
      "7000\n",
      "8000\n",
      "9000\n",
      "10000\n",
      "11000\n",
      "12000\n",
      "13000\n",
      "14000\n",
      "15000\n",
      "16000\n",
      "17000\n",
      "18000\n",
      "19000\n",
      "20000\n",
      "21000\n",
      "22000\n",
      "23000\n",
      "24000\n",
      "25000\n",
      "26000\n",
      "27000\n",
      "28000\n",
      "29000\n",
      "30000\n",
      "31000\n",
      "32000\n",
      "33000\n",
      "34000\n",
      "35000\n",
      "36000\n",
      "37000\n",
      "38000\n",
      "39000\n",
      "40000\n",
      "41000\n",
      "42000\n",
      "43000\n",
      "44000\n",
      "45000\n",
      "46000\n",
      "47000\n",
      "48000\n",
      "49000\n",
      "50000\n",
      "51000\n",
      "52000\n",
      "53000\n",
      "54000\n",
      "55000\n",
      "56000\n",
      "57000\n",
      "58000\n",
      "59000\n"
     ]
    }
   ],
   "source": [
    "data_matrix = create_data_matrix(main_df, vocab, 'datamatrix.pkl')"
   ]
  },
  {
   "cell_type": "code",
   "execution_count": null,
   "metadata": {
    "collapsed": true
   },
   "outputs": [],
   "source": []
  }
 ],
 "metadata": {
  "kernelspec": {
   "display_name": "Python 3",
   "language": "python",
   "name": "python3"
  },
  "language_info": {
   "codemirror_mode": {
    "name": "ipython",
    "version": 3
   },
   "file_extension": ".py",
   "mimetype": "text/x-python",
   "name": "python",
   "nbconvert_exporter": "python",
   "pygments_lexer": "ipython3",
   "version": "3.3.5"
  }
 },
 "nbformat": 4,
 "nbformat_minor": 0
}
