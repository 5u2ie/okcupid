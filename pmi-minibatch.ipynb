{
 "cells": [
  {
   "cell_type": "code",
   "execution_count": 1,
   "metadata": {
    "collapsed": true
   },
   "outputs": [],
   "source": [
    "import re\n",
    "import warnings\n",
    "\n",
    "import numpy as np\n",
    "import pandas as pd\n",
    "import matplotlib.pyplot as plt\n",
    "import seaborn as sns\n",
    "from sklearn.cluster import MiniBatchKMeans\n",
    "\n",
    "from utils.hash import make\n",
    "from utils.calculate_pmi_features import get_data, run_PMI\n",
    "\n",
    "%matplotlib inline\n",
    "plt.style.use('ggplot')\n",
    "warnings.filterwarnings('ignore')"
   ]
  },
  {
   "cell_type": "code",
   "execution_count": 2,
   "metadata": {
    "collapsed": false
   },
   "outputs": [],
   "source": [
    "df = get_data()\n",
    "df.ethnicity.fillna('', inplace=True)\n",
    "df['ethnicity_'] = df.ethnicity.apply(lambda x: 'mixed' if ',' in x else x)"
   ]
  },
  {
   "cell_type": "code",
   "execution_count": 3,
   "metadata": {
    "collapsed": false
   },
   "outputs": [
    {
     "name": "stdout",
     "output_type": "stream",
     "text": [
      "datamatrix.pkl exists\n",
      "the hash for datamatrix.pkl matches what's in hashes.json\n",
      "checking whether the script has been updated...\n",
      "it hasn't; loading datamatrix.pkl\n"
     ]
    }
   ],
   "source": [
    "X = make(run_PMI, 'calculate_pmi_features.py', {'p' : 'datamatrix.pkl'})"
   ]
  },
  {
   "cell_type": "code",
   "execution_count": 4,
   "metadata": {
    "collapsed": false
   },
   "outputs": [
    {
     "data": {
      "text/plain": [
       "MiniBatchKMeans(batch_size=100, compute_labels=True, init='k-means++',\n",
       "        init_size=None, max_iter=100, max_no_improvement=10, n_clusters=4,\n",
       "        n_init=3, random_state=1868, reassignment_ratio=0.01, tol=0.0,\n",
       "        verbose=0)"
      ]
     },
     "execution_count": 4,
     "metadata": {},
     "output_type": "execute_result"
    }
   ],
   "source": [
    "K = 4\n",
    "\n",
    "mb_kmeans = MiniBatchKMeans(n_clusters=K, random_state=1868)\n",
    "mb_kmeans.fit(X)"
   ]
  },
  {
   "cell_type": "code",
   "execution_count": 5,
   "metadata": {
    "collapsed": true
   },
   "outputs": [],
   "source": [
    "df['kmeans'] = mb_kmeans.labels_"
   ]
  },
  {
   "cell_type": "code",
   "execution_count": 6,
   "metadata": {
    "collapsed": false
   },
   "outputs": [
    {
     "data": {
      "text/plain": [
       "0       37\n",
       "1    35882\n",
       "2       21\n",
       "3    21882\n",
       "dtype: int64"
      ]
     },
     "execution_count": 6,
     "metadata": {},
     "output_type": "execute_result"
    }
   ],
   "source": [
    "df.kmeans.value_counts().sort_index()"
   ]
  },
  {
   "cell_type": "code",
   "execution_count": 7,
   "metadata": {
    "collapsed": true
   },
   "outputs": [],
   "source": [
    "df['token_count'] = df.TotalEssays.str.split().str.len()"
   ]
  },
  {
   "cell_type": "code",
   "execution_count": 8,
   "metadata": {
    "collapsed": false
   },
   "outputs": [
    {
     "data": {
      "text/plain": [
       "kmeans\n",
       "0     12.918919\n",
       "1    367.024441\n",
       "2      5.666667\n",
       "3    375.849831\n",
       "Name: token_count, dtype: float64"
      ]
     },
     "execution_count": 8,
     "metadata": {},
     "output_type": "execute_result"
    }
   ],
   "source": [
    "df.groupby('kmeans')['token_count'].mean()"
   ]
  },
  {
   "cell_type": "code",
   "execution_count": 9,
   "metadata": {
    "collapsed": true
   },
   "outputs": [],
   "source": [
    "low = df[df.kmeans.isin([0, 2])][['TotalEssays', 'token_count', 'kmeans']]\n",
    "low.reset_index(drop=True, inplace=True)"
   ]
  },
  {
   "cell_type": "code",
   "execution_count": 10,
   "metadata": {
    "collapsed": false
   },
   "outputs": [],
   "source": [
    "for c in np.sort(df.kmeans.unique()):\n",
    "    if c == 0:\n",
    "        tdf = df[df.kmeans == c]\n",
    "        tdf_p = pd.DataFrame({str(c) :\n",
    "                              tdf.ethnicity_.value_counts().sort_index()/\\\n",
    "                              tdf.ethnicity_.value_counts().sort_index().sum()}).reset_index()\n",
    "    else:\n",
    "        tdf = df[df.kmeans == c]\n",
    "        tdf_p = pd.merge(tdf_p,\n",
    "                         pd.DataFrame({str(c) :\n",
    "                                       tdf.ethnicity_.value_counts().sort_index()/\\\n",
    "                                       tdf.ethnicity_.value_counts().sort_index().sum()}).reset_index(),\n",
    "                         how='outer',\n",
    "                         on='index')\n",
    "\n",
    "tdf_p.fillna(0)\n",
    "tdf_p.rename(columns={'index':'ethnicity_'}, inplace=True)\n",
    "tdf_p.sort('ethnicity_', inplace=True)\n",
    "tdf_p.reset_index(drop=True, inplace=True)"
   ]
  },
  {
   "cell_type": "code",
   "execution_count": 11,
   "metadata": {
    "collapsed": false
   },
   "outputs": [
    {
     "data": {
      "text/plain": [
       "<matplotlib.legend.Legend at 0x119a16630>"
      ]
     },
     "execution_count": 11,
     "metadata": {},
     "output_type": "execute_result"
    },
    {
     "data": {
      "image/png": "[encoded data removed]",
      "text/plain": [
       "<matplotlib.figure.Figure at 0x119a16be0>"
      ]
     },
     "metadata": {},
     "output_type": "display_data"
    }
   ],
   "source": [
    "tdf_p.plot(alpha=0.75, figsize=(10, 8), kind='bar')\n",
    "\n",
    "plt.xlim(-0.5, len(df.ethnicity_.unique())-0.5)\n",
    "plt.xticks(tdf_p.index, tdf_p.ethnicity_, rotation=90);\n",
    "\n",
    "plt.xlabel('\\nEthnicity')\n",
    "plt.ylabel('Percentage in Cluster')\n",
    "\n",
    "plt.legend(range(K), loc='upper left', title='Cluster')"
   ]
  },
  {
   "cell_type": "code",
   "execution_count": null,
   "metadata": {
    "collapsed": true
   },
   "outputs": [],
   "source": []
  }
 ],
 "metadata": {
  "kernelspec": {
   "display_name": "Python 3",
   "language": "python",
   "name": "python3"
  },
  "language_info": {
   "codemirror_mode": {
    "name": "ipython",
    "version": 3
   },
   "file_extension": ".py",
   "mimetype": "text/x-python",
   "name": "python",
   "nbconvert_exporter": "python",
   "pygments_lexer": "ipython3",
   "version": "3.4.2"
  }
 },
 "nbformat": 4,
 "nbformat_minor": 0
}
