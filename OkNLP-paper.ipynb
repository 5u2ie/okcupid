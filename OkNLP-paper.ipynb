{
 "cells": [
  {
   "cell_type": "markdown",
   "metadata": {},
   "source": [
    "# OkNLP"
   ]
  },
  {
   "cell_type": "code",
   "execution_count": 1,
   "metadata": {
    "collapsed": false
   },
   "outputs": [],
   "source": [
    "import warnings\n",
    "\n",
    "import pandas as pd\n",
    "from sklearn.cross_validation import train_test_split\n",
    "from sklearn.linear_model import LogisticRegression\n",
    "from sklearn.metrics import accuracy_score\n",
    "\n",
    "from utils.categorize_demographics import *\n",
    "from utils.clean_up import clean_up\n",
    "from utils.distinctive_tokens import log_odds_ratio\n",
    "from utils.lexical_features import *\n",
    "from utils.nonnegative_matrix_factorization import nmf_labels, nmf_inspect\n",
    "from utils.plotting import lollipop_paper\n",
    "from utils.splits import *\n",
    "from utils.text_representation import feature_vectors\n",
    "\n",
    "\n",
    "warnings.filterwarnings('ignore')\n",
    "\n",
    "%matplotlib inline"
   ]
  },
  {
   "cell_type": "markdown",
   "metadata": {},
   "source": [
    "## Data"
   ]
  },
  {
   "cell_type": "code",
   "execution_count": 2,
   "metadata": {
    "collapsed": false
   },
   "outputs": [],
   "source": [
    "df = pd.read_csv('data/profiles.20120630.csv')\n",
    "\n",
    "essay_list = ['essay0', 'essay4']\n",
    "df_0, df_4 = clean_up(df, essay_list)\n",
    "\n",
    "df_0 = recategorize(df_0)\n",
    "df_4 = recategorize(df_4)"
   ]
  },
  {
   "cell_type": "markdown",
   "metadata": {},
   "source": [
    "## Lexical"
   ]
  },
  {
   "cell_type": "markdown",
   "metadata": {},
   "source": [
    "Based on the universal tagset of Petrov, Das, & McDonald ([link](https://github.com/slavpetrov/universal-pos-tags)).\n",
    "\n",
    "```\n",
    "ADJ - adjectives\n",
    "ADP - adpositions (prepositions and postpositions)\n",
    "ADV - adverbs\n",
    "CONJ - conjunctions\n",
    "DET - determiners\n",
    "NOUN - nouns (common and proper)\n",
    "NUM - cardinal numbers\n",
    "PART - particles or other function words\n",
    "PRON - pronouns\n",
    "PUNCT - punctuation\n",
    "VERB - verbs (all tenses and modes)\n",
    "X - other: foreign words, typos, abbreviations\n",
    "```\n",
    "\n",
    "spaCy-specific information: https://spacy.io/docs#token-postags."
   ]
  },
  {
   "cell_type": "code",
   "execution_count": 3,
   "metadata": {
    "collapsed": false
   },
   "outputs": [],
   "source": [
    "pos = pos_df(df_0.essay0)\n",
    "pos_norm = pos_normalize(pos)"
   ]
  },
  {
   "cell_type": "markdown",
   "metadata": {},
   "source": [
    "### Essay Length"
   ]
  },
  {
   "cell_type": "code",
   "execution_count": 4,
   "metadata": {
    "collapsed": false
   },
   "outputs": [
    {
     "name": "stdout",
     "output_type": "stream",
     "text": [
      "Levels (in order): ['F' 'M']\n",
      "\n",
      "n_tokens\n",
      "[means] 'a': 149.58946578 'b': 138.72696526\n",
      "p-values:\n",
      "  [permutation]: 0.0\n",
      "  [classical]:   0.0\n",
      "\n"
     ]
    }
   ],
   "source": [
    "pos['n_tokens'] = pos.sum(axis=1)\n",
    "pos_by_split(df_0, pos, 'sex', ['n_tokens'], print_levels=True)"
   ]
  },
  {
   "cell_type": "markdown",
   "metadata": {},
   "source": [
    "### Profanity and Slang"
   ]
  },
  {
   "cell_type": "code",
   "execution_count": 5,
   "metadata": {
    "collapsed": false
   },
   "outputs": [
    {
     "name": "stdout",
     "output_type": "stream",
     "text": [
      "0.0600098191019\n",
      "profanity\n",
      "[means] 'a': 0.05815862 'b': 0.06125739\n",
      "p-values:\n",
      "  [permutation]: 0.1439\n",
      "  [classical]:   0.1390202\n",
      "\n"
     ]
    }
   ],
   "source": [
    "profane = load_words('data/profane.txt')\n",
    "profanity = pd.DataFrame(contains(profane, df_0.essay0),\n",
    "                         columns=['profanity'])\n",
    "print(profanity.profanity.sum() / profanity.shape[0])\n",
    "pos_by_split(df_0, profanity, 'sex', ['profanity'])"
   ]
  },
  {
   "cell_type": "code",
   "execution_count": 6,
   "metadata": {
    "collapsed": false
   },
   "outputs": [
    {
     "name": "stdout",
     "output_type": "stream",
     "text": [
      "0.559084557574\n",
      "slang\n",
      "[means] 'a': 0.5411097 'b': 0.57119828\n",
      "p-values:\n",
      "  [permutation]: 0.0\n",
      "  [classical]:   0.0\n",
      "\n"
     ]
    }
   ],
   "source": [
    "slang = load_words('data/slang.txt')\n",
    "slang = pd.DataFrame(contains(slang, df_0.essay0),\n",
    "                     columns=['slang'])\n",
    "print(slang.slang.sum() / slang.shape[0])\n",
    "pos_by_split(df_0, slang, 'sex', ['slang'])"
   ]
  },
  {
   "cell_type": "markdown",
   "metadata": {},
   "source": [
    "### Adjectives, Nouns, and Verbs"
   ]
  },
  {
   "cell_type": "code",
   "execution_count": 7,
   "metadata": {
    "collapsed": false
   },
   "outputs": [
    {
     "name": "stdout",
     "output_type": "stream",
     "text": [
      "ADJ\n",
      "[means] 'a': 0.10614445 'b': 0.10162557\n",
      "p-values:\n",
      "  [permutation]: 0.0\n",
      "  [classical]:   0.0\n",
      "\n",
      "NOUN\n",
      "[means] 'a': 0.18651103 'b': 0.18868403\n",
      "p-values:\n",
      "  [permutation]: 0.0\n",
      "  [classical]:   3.163e-05\n",
      "\n",
      "VERB\n",
      "[means] 'a': 0.18277245 'b': 0.18272425\n",
      "p-values:\n",
      "  [permutation]: 0.9122\n",
      "  [classical]:   0.90974631\n",
      "\n"
     ]
    }
   ],
   "source": [
    "pos_by_split(df_0, pos_norm, 'sex', ['ADJ', 'NOUN', 'VERB'])"
   ]
  },
  {
   "cell_type": "markdown",
   "metadata": {},
   "source": [
    "### Tokens"
   ]
  },
  {
   "cell_type": "code",
   "execution_count": 8,
   "metadata": {
    "collapsed": true
   },
   "outputs": [],
   "source": [
    "f = subset_df(df_0, 'sex', ['F'])\n",
    "m = subset_df(df_0, 'sex', ['M'])\n",
    "\n",
    "tagged_f = tag_corpus(f.essay0)\n",
    "tagged_m = tag_corpus(m.essay0)"
   ]
  },
  {
   "cell_type": "markdown",
   "metadata": {},
   "source": [
    "#### Adjectives"
   ]
  },
  {
   "cell_type": "code",
   "execution_count": 9,
   "metadata": {
    "collapsed": false,
    "scrolled": true
   },
   "outputs": [
    {
     "name": "stdout",
     "output_type": "stream",
     "text": [
      "my | happy | independent | favorite | sweet | silly | important | passionate | warm | amazing | beautiful | adventurous | creative | loyal | social\n",
      "\n",
      "that | nice | more | few | other | most | its | cool | interesting | your | easy | good | which | much | last\n"
     ]
    }
   ],
   "source": [
    "top_terms(tagged_f, tagged_m, 'ADJ', diff_prop, 15)"
   ]
  },
  {
   "cell_type": "code",
   "execution_count": 10,
   "metadata": {
    "collapsed": false
   },
   "outputs": [
    {
     "name": "stdout",
     "output_type": "stream",
     "text": [
      "independent | sweet | my | sassy | silly | happy | warm | favorite | girly | fabulous\n",
      "\n",
      "nice | cool | its | that | few | interesting | martial | most | masculine | more\n"
     ]
    }
   ],
   "source": [
    "top_terms(tagged_f, tagged_m, 'ADJ', log_odds_ratio, 10)"
   ]
  },
  {
   "cell_type": "markdown",
   "metadata": {},
   "source": [
    "#### Nouns"
   ]
  },
  {
   "cell_type": "code",
   "execution_count": 11,
   "metadata": {
    "collapsed": false
   },
   "outputs": [
    {
     "name": "stdout",
     "output_type": "stream",
     "text": [
      "girl | family | who | yoga | men | gal | heels | love | dancing | friends\n",
      "\n",
      "guy | computer | engineer | guitar | sports | software | women | video | technology | geek\n"
     ]
    }
   ],
   "source": [
    "top_terms(tagged_f, tagged_m, 'NOUN', log_odds_ratio, 10)"
   ]
  },
  {
   "cell_type": "markdown",
   "metadata": {},
   "source": [
    "#### Verbs"
   ]
  },
  {
   "cell_type": "code",
   "execution_count": 12,
   "metadata": {
    "collapsed": false
   },
   "outputs": [
    {
     "name": "stdout",
     "output_type": "stream",
     "text": [
      "love | am | laugh | laughing | dancing | adore | loving | dance | appreciate | being\n",
      "\n",
      "m | was | play | playing | laid | 'll | working | hit | moved | been\n"
     ]
    }
   ],
   "source": [
    "top_terms(tagged_f, tagged_m, 'VERB', log_odds_ratio, 10)"
   ]
  },
  {
   "cell_type": "markdown",
   "metadata": {},
   "source": [
    "## Semantic"
   ]
  },
  {
   "cell_type": "code",
   "execution_count": 13,
   "metadata": {
    "collapsed": true
   },
   "outputs": [],
   "source": [
    "specs = {'stop_words' : 'english', 'ngram_range' : (1, 3), 'min_df' : 0.005}"
   ]
  },
  {
   "cell_type": "markdown",
   "metadata": {},
   "source": [
    "### Essay 0"
   ]
  },
  {
   "cell_type": "markdown",
   "metadata": {},
   "source": [
    "#### Text Representation"
   ]
  },
  {
   "cell_type": "code",
   "execution_count": 14,
   "metadata": {
    "collapsed": true
   },
   "outputs": [],
   "source": [
    "counts, tfidf, vocab = feature_vectors(df_0.essay0, specs)"
   ]
  },
  {
   "cell_type": "code",
   "execution_count": 15,
   "metadata": {
    "collapsed": false
   },
   "outputs": [
    {
     "data": {
      "text/plain": [
       "2058"
      ]
     },
     "execution_count": 15,
     "metadata": {},
     "output_type": "execute_result"
    }
   ],
   "source": [
    "len(vocab)"
   ]
  },
  {
   "cell_type": "markdown",
   "metadata": {},
   "source": [
    "#### Clustering"
   ]
  },
  {
   "cell_type": "code",
   "execution_count": 16,
   "metadata": {
    "collapsed": false,
    "scrolled": false
   },
   "outputs": [
    {
     "name": "stdout",
     "output_type": "stream",
     "text": [
      "25\n",
      "Group 0:\n",
      "people | new people | new | meet | meet new | meet new people | meeting | meeting new | meeting new people | looking meet | looking meet new | love meeting | love meeting new | new friends | meet people | like meet | people 'm | love meet | friends | enjoy meeting | interesting | 'm looking meet | city | interesting people | meeting people | interested | want meet | interested meeting | 'm new | people love | experiences | just moved | online | dating | site | new experiences | people like | cool | outgoing | hang | new places | hoping | excited | make new | recently | make new friends | people n't | moved | people make | :)\n",
      "\n",
      "Group 1:\n",
      "san | francisco | san francisco | moved san | moved san francisco | city | living san | living san francisco | living | moved | just moved san | live san | live | diego | native | san diego | lived san | grew | lived san francisco | lived | originally | years | recently | year | raised san | home | york | currently | new york | born raised san | recently moved | new | los | university | offer | just moved | exploring | angeles | los angeles | working | chicago | santa | love living | hi | graduated | love city | explore | state | college | work\n",
      "\n",
      "Group 2:\n",
      "love | travel | love travel | outdoors | love laugh | love outdoors | love love | cook | laugh | dance | love cook | especially | love going | life love | love life | food | city | love good | people love | :) | love dance | world | love people | animals | favorite | nature | things love | dogs | sports | beach | great | love music | really love | love traveling | love sports | love meet | love food | heart | explore | big | 'd love | person love | love animals | friends love | love family | absolutely | love job | love city | adventure | hike\n",
      "\n",
      "Group 3:\n",
      "know | just | want | ask | want know | message | just ask | really | know just | :) | 'll | say | 'm just | n't know | nt | wanna | profile | just want | talk | write | getting | questions | u | send | getting know | know 'm | just moved | know want | feel | thing | lol | feel free | trying | need | like know | tell | meet | send message | really want | come | maybe | hey | n't want | guy | hit | shy | site | free | right | let know\n",
      "\n",
      "Group 4:\n",
      "'m | pretty | 'm pretty | 'm really | 'm looking | really | guy | 'm just | say 'm | 'll | think 'm | 'm good | 'm trying | nerd | life 'm | 'm working | bit | 'm bit | 'm going | laid | hi 'm | shy | sure | time 'm | 'm big | big | people 'm | girl | things 'm | 'm interested | 'm happy | fan | 'm kind | usually | 'd | 'm passionate | 'm currently | 'm usually | know 'm | 'm sure | friends 'm | geek | 'm originally | 'm new | 'm doing | 'm open | 'm laid | 'm little | sarcastic | right 'm\n",
      "\n",
      "Group 5:\n",
      "new | things | new things | trying | trying new | try | trying new things | try new | try new things | places | learning | new places | learning new | learning new things | exploring | learn | things like | restaurants | explore | exploring new | learn new | new restaurants | things love | things 'm | new york | york | love trying | doing | different | like try | things life | adventures | traveling | travel | 'm trying | explore new | experience | trying new restaurants | experiences | new experiences | looking new | love learning | finding | discovering | adventure | city | foods | things enjoy | willing | finding new\n",
      "\n",
      "Group 6:\n",
      "looking | 'm looking | guy | relationship | looking meet | meet | share | woman | nice | just looking | man | partner | guy looking | girl | looking new | single | forward | looking forward | friend | just | term | friends | long term | date | hang | new friends | looking fun | looking friends | special | guys | right | dating | long | wants | looking share | great | 'm looking meet | looking meet new | looking partner | sex | maybe | interests | friendship | smart | term relationship | long term relationship | women | nice guy | crime | chemistry\n",
      "\n",
      "Group 7:\n",
      "going | easy | easy going | 'm easy | 'm easy going | guy | going guy | easy going guy | pretty easy | pretty easy going | pretty | laid | love going | 'm going | person | like going | earth | 'm pretty | simple | enjoy going | friendly | drama | likes | going movies | movies | funny | try | concerts | loves | sports | 's going | hanging | gym | girl | playing | shows | staying | nice | beach | home | just | hang | 'm laid | :) | kind | enjoys | chill | positive | honest | relaxed\n",
      "\n",
      "Group 8:\n",
      "m | nt | s | guy | u | ve | lol | chill | nice | old | pretty | alot | laid | kinda | n | really | say | hit | girl | years old | hi | wanna | hey | single | lets | :) | haha | type | shy | real | person | outgoing | good time | cool | hang | big | ca | 2 | school | just | good | sports | got | party | currently | cause | message | tattoos | student | smoke\n",
      "\n",
      "Group 9:\n",
      "like | 'd like | 'd | things | things like | really like | n't like | feel like | really | stuff | like think | feel | like people | think | people | lot | like going | watch | read | people like | games | like meet | movies | play | like travel | cook | eat | like things | like 'm | just like | like fun | like good | dance | like laugh | drink | like read | stay | like play | talk | bike | nice | life like | little | like cook | hang | time like | doing | sports | going | like stay\n",
      "\n",
      "Group 10:\n",
      "moved | sf | years | ago | coast | east | years ago | school | east coast | city | moved sf | just moved | grew | year | college | went | california | originally | recently | just | west | recently moved | living | west coast | nyc | job | months | grad | year ago | moved san | la | moved bay | grad school | spent | moved san francisco | went school | boston | months ago | 'm originally | york | new york | 2 | midwest | lived | came | couple | graduated | south | went college | transplant\n",
      "\n",
      "Group 11:\n",
      "n't | ca | ca n't | does | does n't | really | wo | wo n't | n't like | n't know | did | think | n't really | mean | 're | did n't | probably | say | seriously | n't think | mind | people | way | 'll | need | things | n't want | care | right | profile | n't mind | tell | believe | people n't | n't mean | long | thing | hate | actually | n't care | wait | does n't mean | n't seriously | try | n't believe | use | feel | read | stand | day\n",
      "\n",
      "Group 12:\n",
      "time | spend | spend time | good time | free | lot | free time | spending | spending time | lot time | good | spend lot | time friends | spend lot time | time time | time 'm | having | working | time like | time love | spent | school | having good | having good time | busy | spare | student | work time | spare time | doing | long time | long | spending time friends | time family | work | job | day | time enjoy | currently | great time | right | days | enjoy spending | enjoy spending time | spent time | thinking | taking | enjoying | quite | possible\n",
      "\n",
      "Group 13:\n",
      "good | humor | sense | sense humor | good sense | good sense humor | great | good food | food | great sense | great sense humor | good time | conversation | good conversation | sarcastic | 'm good | love good | dry | enjoy good | good company | company | good friends | good people | appreciate | listener | wine | good listener | like good | intelligent | times | guy | having good | pretty good | really good | man | bad | smart | honest | wit | witty | earth | having | friend | good friend | loyal | heart | important | nice | kind | life good\n",
      "\n",
      "Group 14:\n",
      "fun | loving | fun loving | 'm fun | having fun | having | outgoing | guy | girl | adventurous | like fun | looking fun | loves | caring | smart | likes | honest | fun 'm | love fun | spontaneous | fun love | earth | funny | loyal | intelligent | fun like | :) | energetic | lot fun | 's fun | witty | passionate | kind | hang | laid | sweet | ambitious | enjoys | friendly | adventure | creative | woman | compassionate | happy | athletic | romantic | chill | young | nice | active\n",
      "\n",
      "Group 15:\n",
      "'s | let | let 's | 're | think | 'll | way | self | right | 's just | thing | say | little | best | 'd | profile | think 's | great | day | summary | life 's | maybe | ok | better | long | friend | 's good | people 's | probably | 's 'm | said | favorite | man | self summary | yes | 's pretty | really | 's really | start | write | oh | just | tell | awesome | bit | know 's | makes | place | true | 's hard\n",
      "\n",
      "Group 16:\n",
      "bay | area | bay area | moved bay | moved bay area | native | area native | bay area native | grew | living | living bay | grew bay | grew bay area | 'm bay | lived | 'm bay area | east bay | area 'm | lived bay | lived bay area | raised bay area | raised bay | college | east | originally | exploring | recently | years | new | offer | explore | moved | home | born raised bay | transplant | place | live | berkeley | oakland | working | places | year | recently moved | enjoying | currently | moving | boston | work | la | went\n",
      "\n",
      "Group 17:\n",
      "work | hard | play | work hard | working | hard play | work hard play | play hard | hard play hard | hard working | progress | work progress | harder | job | try | week | live | love work | company | school | balance | day | work time | currently | industry | busy | weekends | 's hard | work 'm | gym | tech | lot | outside | 'm working | active | career | days | business | social | eat | sleep | travel | guitar | startup | doing | run | professional | healthy | ambitious | stay\n",
      "\n",
      "Group 18:\n",
      "born | raised | born raised | raised san | born raised san | raised bay | born raised bay | california | raised bay area | college | school | sf | went | years | family | lived | berkeley | oakland | currently | girl | southern | parents | graduated | went college | bay | northern | spent | came | south | went school | chinese | hawaii | la | sports | cal | old | northern california | american | giants | san | southern california | texas | studied | state | high school | educated | san diego | diego | uc | age\n",
      "\n",
      "Group 19:\n",
      "open | minded | open minded | 'm open | creative | honest | relationship | adventurous | curious | passionate | intelligent | mind | kind | heart | strong | interested | independent | woman | nature | compassionate | loyal | self | playful | open mind | free | spontaneous | funny | caring | long | confident | earth | romantic | relationships | man | spirit | book | warm | spiritual | open new | smart | lover | seeking | sensual | generous | thoughtful | experiences | non | loving | affectionate | friendly\n",
      "\n",
      "Group 20:\n",
      "enjoy | friends | family | hiking | watching | friends family | outdoors | traveling | hanging | cooking | great | family friends | active | wine | movies | sports | reading | playing | activities | spending | home | going | running | camping | hanging friends | biking | beach | spending time | really enjoy | close | movie | city | dinner | exploring | dancing | important | outdoor | travel | enjoy going | enjoy life | skiing | staying | restaurants | watching movies | eating | taking | trips | swimming | enjoy outdoors | snowboarding\n",
      "\n",
      "Group 21:\n",
      "music | art | live | movies | live music | play | food | playing | games | love music | dancing | listening | books | guitar | shows | reading | listen | rock | video | creative | photography | dance | film | cooking | video games | design | watching | making | writing | nature | listening music | old | arts | science | artist | lover | favorite | coffee | sports | jazz | read | passion | interests | watch | beer | museums | history | kinds | nerd | hop\n",
      "\n",
      "Group 22:\n",
      "life | live | world | share | living | live life | believe | things life | want | fullest | day | man | best | happy | simple | enjoy life | important | experiences | partner | passionate | love life | enjoying | life fullest | experience | short | life 'm | life 's | woman | passion | adventure | great | positive | way | heart | life love | feel | moment | living life | life short | beautiful | special | family | things | life like | enjoying life | nature | healthy | better | journey | share life\n",
      "\n",
      "Group 23:\n",
      "person | people | make | laugh | think | funny | kind | pretty | say | try | things | happy | lot | make laugh | people laugh | believe | honest | smile | best | way | make people | really | little | better | tend | love laugh | make people laugh | making | friends | shy | positive | world | self | talk | bit | makes | important | smart | loyal | feel | consider | creative | care | usually | type | sarcastic | times | caring | interesting | thing\n",
      "\n",
      "Group 24:\n",
      "'ve | lived | years | 've lived | got | 've got | world | lot | traveled | year | bit | spent | past | 'd | places | travel | home | countries | different | worked | 5 | far | told | 've told | europe | 10 | 've traveled | seen | long | learned | 've spent | quite | years 've | old | couple | place | recently | 2 | 3 | feel | california | little | country | 4 | come | 6 | times | 'll | met | way\n",
      "\n",
      "\n"
     ]
    }
   ],
   "source": [
    "K = 25\n",
    "nmf_inspect(tfidf, vocab, k_vals=[K], n_words=50)"
   ]
  },
  {
   "cell_type": "code",
   "execution_count": 17,
   "metadata": {
    "collapsed": true
   },
   "outputs": [],
   "source": [
    "labels = ['meet & greet', 'the city', 'enthusiastic', 'straight talk', 'about me', 'novelty',\n",
    "          'seeking', 'carefree', 'casual', 'enjoy', 'transplant', 'nots', 'moments',\n",
    "          'personality', 'amusing', 'review', 'region', 'career-focused', 'locals',\n",
    "          'unconstrained', 'active', 'creative', 'carpe diem', 'cheerful', 'jet setter']"
   ]
  },
  {
   "cell_type": "code",
   "execution_count": 18,
   "metadata": {
    "collapsed": false
   },
   "outputs": [],
   "source": [
    "df_0['group'] = nmf_labels(tfidf, k=K)"
   ]
  },
  {
   "cell_type": "code",
   "execution_count": 19,
   "metadata": {
    "collapsed": false
   },
   "outputs": [
    {
     "data": {
      "image/png": "[encoded data removed]",
      "text/plain": [
       "<matplotlib.figure.Figure at 0x1cbb1aa58>"
      ]
     },
     "metadata": {},
     "output_type": "display_data"
    }
   ],
   "source": [
    "demog = 'sex'\n",
    "subset = subset_df(df_0, demog, ['F', 'M'])\n",
    "grouped = group_pct(subset, demog)\n",
    "lollipop_paper(grouped, demog, topic_labels=labels)"
   ]
  },
  {
   "cell_type": "markdown",
   "metadata": {},
   "source": [
    "### Essay 4"
   ]
  },
  {
   "cell_type": "markdown",
   "metadata": {},
   "source": [
    "#### Text Representation"
   ]
  },
  {
   "cell_type": "code",
   "execution_count": 20,
   "metadata": {
    "collapsed": true
   },
   "outputs": [],
   "source": [
    "counts, tfidf, vocab = feature_vectors(df_4.essay4, specs)"
   ]
  },
  {
   "cell_type": "code",
   "execution_count": 21,
   "metadata": {
    "collapsed": false
   },
   "outputs": [
    {
     "data": {
      "text/plain": [
       "2898"
      ]
     },
     "execution_count": 21,
     "metadata": {},
     "output_type": "execute_result"
    }
   ],
   "source": [
    "len(vocab)"
   ]
  },
  {
   "cell_type": "markdown",
   "metadata": {},
   "source": [
    "#### Clustering"
   ]
  },
  {
   "cell_type": "code",
   "execution_count": 22,
   "metadata": {
    "collapsed": false,
    "scrolled": false
   },
   "outputs": [
    {
     "name": "stdout",
     "output_type": "stream",
     "text": [
      "25\n",
      "Group 0:\n",
      "like | music like | movies like | really | really like | stuff | food like | things | like music | books like | like movies | n't like | like food | movies | lot | stuff like | like lot | like read | kind | comedies | like good | music | good | shows like | things like | like books | think | like reading | make | different | like watch | especially | old | like kinds | feel | like eat | like types | just | people | bands | pretty | feel like | funny | probably | like cook | eat | ones | nt | lots | metal\n",
      "\n",
      "Group 1:\n",
      "men | mad | mad men | arrested | development | arrested development | bad | breaking | breaking bad | rock | 30 | 30 rock | tv | parks | sunny | wire | dexter | shows | office | curb | sunny philadelphia | 's sunny | philadelphia | rec | parks rec | community | curb enthusiasm | enthusiasm | recreation | parks recreation | 's sunny philadelphia | daily | seinfeld | tv shows | archer | shows arrested | weeds | shows arrested development | colbert | louie | lost | classic | sopranos | classic rock | walking | walking dead | blood | report | friday night | night lights\n",
      "\n",
      "Group 2:\n",
      "love | food love | love food | love music | music love | love movies | love love | movies love | cook | love good | eat | food | love cook | love read | love eat | good | books love | live | movies | especially | just | love reading | music | really love | love sushi | dance | love books | going | love going | great | love types | horror | actually | food love food | love actually | try | love watching | cooking | comedies | just love | love live | love kinds | romantic | pray | wine | make | old | life | eat pray | pray love\n",
      "\n",
      "Group 3:\n",
      "favorite | favorite food | favorite movies | favorite books | favorite music | favorite movie | favorite book | favorite shows | favorite tv | time favorite | time | favorite foods | music favorite | include | favorite tv shows | favorite band | foods | food favorite | movies favorite | favorite authors | band | probably | books favorite | authors | author | favorite things | tv shows | favorite bands | movies | say | bands | shows | artists | genre | listen | hard | far | moment | tv | current | really | r&b | recent | pick | genres | hands | artist | series | color | second\n",
      "\n",
      "Group 4:\n",
      "sci | fi | sci fi | action | comedy | horror | fantasy | movies | drama | comedies | fi fantasy | sci fi fantasy | romantic | rock | action movies | films | classic | adventure | thrillers | metal | flicks | romance | romantic comedies | mystery | horror movies | novels | stuff | series | anime | suspense | chick | good | classic rock | dramas | fan | punk | genres | books | chick flicks | documentaries | pop | foreign | historical | occasional | history | classics | comic | movies like | movie | movies comedies\n",
      "\n",
      "Group 5:\n",
      "hop | hip | hip hop | rock | r&b | jazz | reggae | rap | pop | country | music hip | music hip hop | classic | old | hip hop r&b | hop r&b | soul | alternative | classic rock | music | old school | school | classical | indie | metal | funk | listen | blues | house | punk | electronic | oldies | dance | dubstep | techno | trance | folk | 90 | 90 's | latin | indie rock | salsa | comedy | alternative rock | electro | electronica | 80 | 90s | 80 's | action\n",
      "\n",
      "Group 6:\n",
      "'m | fan | 've | reading | pretty | 'll | food 'm | right | 'm big | really | 'm reading | big | currently | 'm pretty | music 'm | just | open | huge | good | big fan | 'm really | picky | listening | right 'm | going | 'm currently | 'm open | time | books 'm | 'm huge | movies 'm | stuff | probably | 'm big fan | comes | 'm picky | sucker | 'd | try | 'm sucker | say | eat | sure | lately | favorites | 'm fan | currently reading | bit | usually | think\n",
      "\n",
      "Group 7:\n",
      "bang | big bang | bang theory | theory | big bang theory | big | mother | met | met mother | shows | fan | big fan | tv | big lebowski | lebowski | friends | tv shows | house | half | office | kiss | 'm big | community | criminal minds | walking dead | minds | walking | criminal | ncis | new girl | bones | scrubs | men | dead | 500 days summer | 500 days | days summer | big fish | psych | dexter | 500 | inception | man | seinfeld | try | knight | csi | sherlock | movies big | burn notice\n",
      "\n",
      "Group 8:\n",
      "italian | thai | mexican | food | indian | chinese | japanese | sushi | french | vietnamese | mexican food | korean | thai indian | food italian | mexican italian | food thai | food mexican | thai food | italian mexican | indian thai | italian food | food sushi | american | food indian | indian food | ethiopian | mexican thai | mediterranean | thai italian | greek | bbq | thai mexican | indian mexican | asian | sushi thai | pizza | italian thai | thai chinese | chinese food | eastern | thai japanese | foods | middle eastern | thai vietnamese | seafood | chinese japanese | indian italian | jazz | sushi mexican | middle\n",
      "\n",
      "Group 9:\n",
      "n't | ca | ca n't | watch | really | tv | n't watch | watch tv | know | n't really | does | n't like | does n't | think | eat | n't watch tv | just | n't know | did | say | n't read | wo | wo n't | n't think | want | n't eat | did n't | movies n't | people | make | food n't | wait | 'll | time | shows n't | n't tv | favorites | tv n't | listen | really watch | 're | care | music n't | just n't | probably | thing | netflix | 'd | anymore | seen\n",
      "\n",
      "Group 10:\n",
      "harry | potter | harry potter | series | potter series | harry potter series | games | hunger games | hunger | books harry | books harry potter | girl | books | twilight | dragon | girl dragon | tattoo | dragon tattoo | girl dragon tattoo | glee | met | pride | prejudice | pride prejudice | harry met | sally | met sally | harry met sally | disney | vampire | lady | kill | trilogy | girls | gaga | kill mockingbird | mockingbird | lady gaga | love actually | princess | movies | friends | dark | lotr | grey | pop | anatomy | met mother | mother | adele\n",
      "\n",
      "Group 11:\n",
      "books | movies | food | music | shows | music food | books movies | good | movies music | movies shows | country | yes | shows music | dance | action | lots | kind | horror | favorite books | food love | comedy | house | pop | classical | rap | tv | ones | pizza | good food | spicy | type | taste | healthy | funny | asian | art | mood | music country | food food | food good | :) | food yes | action movies | movies good | horror movies | country food | jazz | live | eclectic | alchemist\n",
      "\n",
      "Group 12:\n",
      "sunshine | mind | eternal | eternal sunshine | spotless | spotless mind | sunshine spotless | sunshine spotless mind | eternal sunshine spotless | miss sunshine | little miss sunshine | little miss | amelie | miss | little | garden state | state | garden | lost | life | beautiful | translation | lost translation | beauty | darko | donnie | donnie darko | 500 | days summer | summer | 500 days | 500 days summer | radiohead | american beauty | royal | beautiful mind | memento | tenenbaums | royal tenenbaums | requiem | american | requiem dream | dream | movies | days | sleep | city | adaptation | sky | things\n",
      "\n",
      "Group 13:\n",
      "'s | 80 | 80 's | let | good | let 's | 90 | 90 's | life | 've | just | 70 | world | 70 's | 's good | time | man | guide | great | know | 60 | day | think | ender | 's just | 's game | ender 's | 's guide | 60 's | 's music | ender 's game | stuff | story | night | people | hard | food 's | got | 're | hitchhiker | hitchhiker 's | grey | yes | little | oh | pan | hitchhiker 's guide | way | galaxy | king\n",
      "\n",
      "Group 14:\n",
      "read | lot | read lot | 've | time | watch | listen | recently | books | read books | just | n't read | books read | 've read | lately | reading | love read | like read | recently read | eat | time read | usually | watch lot | nt | loved | favorites | book read | just read | tend | used | work | enjoyed | listen lot | watched | liked | stuff | times | really | best | read book | school | listening | fun | 'll | finished | magazines | books 've | pretty | lot movies | movies\n",
      "\n",
      "Group 15:\n",
      "list | just | 'll | long | ask | way | goes | list goes | things | try | favorites | far | know | time | talk | say | 'll try | tell | short | think | 'll just | conversation | later | come | forever | good | right | oh | person | let | category | meet | 're | start | seriously | probably | 'll eat | food 'll | taste | make | want | question | eclectic | :) | just finished | tastes | feel | going | 'd | finished\n",
      "\n",
      "Group 16:\n",
      "david | black | john | tom | radiohead | bob | life | yeah | brothers | man | beatles | keys | james | dylan | black keys | bowie | dead | young | la | band | smith | new | white | music | bob dylan | michael | boys | johnny | david bowie | arcade | cash | neil | old | vonnegut | waits | stones | little | sedaris | bon | tom waits | paul | cat | velvet | ray | death | davis | pink | iver | bon iver | johnny cash\n",
      "\n",
      "Group 17:\n",
      "star | lord | wars | rings | lord rings | star wars | trek | star trek | trilogy | series | matrix | princess | rings trilogy | lord rings trilogy | dark | bride | indiana | indiana jones | firefly | princess bride | movies | original | jones | park | battlestar | galactica | 2 | dead | battlestar galactica | knight | avatar | doctor | man | dark knight | galaxy | lotr | v | guide | lost | batman | 1 | books | world | war | 3 | scott | x | guide galaxy | monty | python\n",
      "\n",
      "Group 18:\n",
      "family | modern | modern family | guy | family guy | shows | tv | office | park | south | south park | mother | met mother | met | tv shows | girl | glee | simpsons | dad | house | american dad | law | law order | dexter | american | new girl | 30 | parks | friends | order | daily | watch | 30 rock | anatomy | colbert | hangover | grey | report | true | channel | true blood | colbert report | grey 's | entourage | 's anatomy | housewives | community | grey 's anatomy | blood | dragon\n",
      "\n",
      "Group 19:\n",
      "club | fight | fight club | shawshank | redemption | shawshank redemption | pulp fiction | pulp | fear | red | hot | loathing | fear loathing | peppers | red hot | vegas | chili | las | las vegas | chili peppers | american | hot chili | red hot chili | hot chili peppers | loathing las | fear loathing las | loathing las vegas | movies | dead | rye | catcher | catcher rye | park | lebowski | big lebowski | old | kill | big | suspects | usual | day | usual suspects | dark | movies shawshank | movies shawshank redemption | knight | american beauty | office | 2 | hangover\n",
      "\n",
      "Group 20:\n",
      "kinds | kinds music | love kinds | kinds food | like kinds | music | kinds movies | music kinds | food | listen | different | country | foods | comedy | music food | music country | especially | action | rap | mood | lots | movies | music especially | watch | music love | open | food especially | metal | depends | music listen | long | depends mood | heavy metal | drama | movies like | rock | nt | love | comedies | heavy | kind | picky | try | usually | music really | reader | music like | pop | country music | biographies\n",
      "\n",
      "Group 21:\n",
      "book | movie | favorite book | favorite movie | food | music | good | fav | book read | reading | great | best | read book | just | saw | finished | called | currently | m | right | time | buff | life | day | pick | seen | pizza | loved | reader | currently reading | just finished | sushi | comic | story | type | week | current | recent | watched | person | kind | :) | series | novel | night | alchemist | huge | food sushi | nt | better\n",
      "\n",
      "Group 22:\n",
      "enjoy | new | types | trying | reading | trying new | things | foods | types music | good | films | try | music | live | really enjoy | new things | different | restaurants | really | cooking | jazz | types food | favorites | enjoy reading | especially | try new | classical | watching | foreign | rock | going | variety | world | open | love trying | love trying new | live music | great | new restaurants | enjoy good | trying new things | time | listening | currently | love types | music enjoy | movies enjoy | new foods | include | wide\n",
      "\n",
      "Group 23:\n",
      "game | thrones | game thrones | 's game | ender | ender 's | ender 's game | walking | walking dead | blood | dead | games | true blood | series | true | currently | hunger | hunger games | dexter | song ice | ice | shows | song | boardwalk | currently reading | empire | boardwalk empire | breaking | breaking bad | tv | firefly | reading | wire | books | bad | battlestar | hbo | archer | galactica | battlestar galactica | fringe | community | sherlock | californication | dune | lost | shameless | girl | sons | new\n",
      "\n",
      "Group 24:\n",
      "fiction | non | non fiction | science | science fiction | fiction books | pulp fiction | pulp | read non | read non fiction | historical | non fiction books | history | historical fiction | films | books | documentaries | biographies | classical | jazz | foreign | read fiction | tend | reading | novels | prefer | especially | fantasy | philosophy | rock | usually | world | indie | folk | good | lots | stuff | foreign films | political | politics | classic | generally | independent | art | blues | live | psychology | electronic | tv | occasional\n",
      "\n",
      "\n"
     ]
    }
   ],
   "source": [
    "K = 25\n",
    "nmf_inspect(tfidf, vocab, k_vals=[K], n_words=50)"
   ]
  },
  {
   "cell_type": "code",
   "execution_count": 23,
   "metadata": {
    "collapsed": true
   },
   "outputs": [],
   "source": [
    "labels = ['like', 'TV-hits', 'enthusiastic', 'favorite-0', 'genres-movies', 'genres-music',\n",
    "          'misc-0', 'TV-comedies-0', 'genres-food', 'nots', 'teen', 'everything',\n",
    "          'movies-drama-0', 'time periods', 'avid', 'miscellaneous', 'music-rock',\n",
    "          'movies-sci-fi', 'TV-comedies-1', 'movies-drama-1', 'kinds', 'favorite-1',\n",
    "          'novelty', 'TV-drama', 'genres-books']"
   ]
  },
  {
   "cell_type": "code",
   "execution_count": 24,
   "metadata": {
    "collapsed": false
   },
   "outputs": [],
   "source": [
    "df_4['group'] = nmf_labels(tfidf, k=K)"
   ]
  },
  {
   "cell_type": "code",
   "execution_count": 25,
   "metadata": {
    "collapsed": false
   },
   "outputs": [
    {
     "data": {
      "image/png": "[encoded data removed]",
      "text/plain": [
       "<matplotlib.figure.Figure at 0x1e57d8e80>"
      ]
     },
     "metadata": {},
     "output_type": "display_data"
    }
   ],
   "source": [
    "demog = 'sex'\n",
    "subset = subset_df(df_4, demog, ['M', 'F'])\n",
    "grouped = group_pct(subset, demog)\n",
    "lollipop_paper(grouped, demog, topic_labels=labels)"
   ]
  },
  {
   "cell_type": "markdown",
   "metadata": {},
   "source": [
    "#### Superordinate"
   ]
  },
  {
   "cell_type": "code",
   "execution_count": 26,
   "metadata": {
    "collapsed": false
   },
   "outputs": [],
   "source": [
    "mask = df_4['group'].isin([10, 12, 17, 19])\n",
    "movies = counts[np.array(mask), :]\n",
    "movies = counts_by_class(movies, df_4[mask], 'sex',\n",
    "                         one_vs_one=True, vals=['M', 'F'])\n",
    "log_odds = log_odds_ratio(movies, vocab, use_variance=True)"
   ]
  },
  {
   "cell_type": "code",
   "execution_count": 27,
   "metadata": {
    "collapsed": false
   },
   "outputs": [
    {
     "name": "stdout",
     "output_type": "stream",
     "text": [
      "star | star wars | wars | matrix | fight | park | fight club | man | dark knight | knight | pulp | godfather | trek | star trek | rings\n",
      "\n",
      "love | girl | harry | potter | pride | prejudice | harry potter | pride prejudice | bones | girls | anatomy | jane | hunger games | grey 's | 's anatomy\n"
     ]
    }
   ],
   "source": [
    "print_terms(log_odds, 15)"
   ]
  },
  {
   "cell_type": "code",
   "execution_count": 28,
   "metadata": {
    "collapsed": false
   },
   "outputs": [
    {
     "data": {
      "image/png": "[encoded data removed]",
      "text/plain": [
       "<matplotlib.figure.Figure at 0x19bec2cc0>"
      ]
     },
     "metadata": {},
     "output_type": "display_data"
    }
   ],
   "source": [
    "demog = 'drugs'\n",
    "subset = subset_df(df_4, demog, ['yes', 'no', 'unknown'])\n",
    "grouped = group_pct(subset, demog)\n",
    "lollipop_paper(grouped, demog, colors=['Black', 'LightGray', 'Red'], topic_labels=labels)"
   ]
  },
  {
   "cell_type": "markdown",
   "metadata": {},
   "source": [
    "## Predictions"
   ]
  },
  {
   "cell_type": "code",
   "execution_count": 29,
   "metadata": {
    "collapsed": true
   },
   "outputs": [],
   "source": [
    "def drug_labels(df):\n",
    "    labels = []\n",
    "    for i in df.index:\n",
    "        if df.drugs[i] in ('no', 'unknown'):\n",
    "            labels.append(0)\n",
    "        elif df.drugs[i] == 'yes':\n",
    "            labels.append(1)\n",
    "    return labels"
   ]
  },
  {
   "cell_type": "markdown",
   "metadata": {},
   "source": [
    "### Essay 4"
   ]
  },
  {
   "cell_type": "code",
   "execution_count": 30,
   "metadata": {
    "collapsed": true
   },
   "outputs": [],
   "source": [
    "# numerical drug usage labels\n",
    "df_4['labels'] = drug_labels(df_4)\n",
    "\n",
    "# split on drug usage status\n",
    "drugs_yes = subset_df(df_4, 'drugs', ['yes'])\n",
    "drugs_no = subset_df(df_4, 'drugs', ['no'])\n",
    "drugs_unknown = subset_df(df_4, 'drugs', ['unknown'])\n",
    "\n",
    "# balanced sample of known drug users\n",
    "drugs_known_sample = pd.concat([drugs_no.sample(drugs_yes.shape[0],\n",
    "                                                random_state=42),\n",
    "                                drugs_yes],\n",
    "                               ignore_index=True)"
   ]
  },
  {
   "cell_type": "code",
   "execution_count": 31,
   "metadata": {
    "collapsed": true
   },
   "outputs": [],
   "source": [
    "pred_4 = {'vocabulary' : vocab}\n",
    "_, known, _ = feature_vectors(drugs_known_sample.essay4, pred_4)\n",
    "_, unknown, _ = feature_vectors(drugs_unknown.essay4, pred_4)"
   ]
  },
  {
   "cell_type": "code",
   "execution_count": 32,
   "metadata": {
    "collapsed": true
   },
   "outputs": [],
   "source": [
    "known_train, known_test, y_train, y_test = train_test_split(known,\n",
    "                                                            drugs_known_sample['labels'],\n",
    "                                                            test_size=0.2, random_state=42)"
   ]
  },
  {
   "cell_type": "code",
   "execution_count": 33,
   "metadata": {
    "collapsed": false
   },
   "outputs": [
    {
     "data": {
      "text/plain": [
       "LogisticRegression(C=1.0, class_weight=None, dual=False, fit_intercept=True,\n",
       "          intercept_scaling=1, max_iter=100, multi_class='ovr', n_jobs=1,\n",
       "          penalty='l2', random_state=None, solver='liblinear', tol=0.0001,\n",
       "          verbose=0, warm_start=False)"
      ]
     },
     "execution_count": 33,
     "metadata": {},
     "output_type": "execute_result"
    }
   ],
   "source": [
    "model = LogisticRegression()\n",
    "model.fit(known_train, y_train)"
   ]
  },
  {
   "cell_type": "code",
   "execution_count": 34,
   "metadata": {
    "collapsed": false
   },
   "outputs": [
    {
     "name": "stdout",
     "output_type": "stream",
     "text": [
      "0.680029154519\n"
     ]
    }
   ],
   "source": [
    "yhat = model.predict(known_test)\n",
    "print(accuracy_score(y_test, yhat))"
   ]
  },
  {
   "cell_type": "code",
   "execution_count": 35,
   "metadata": {
    "collapsed": false
   },
   "outputs": [
    {
     "name": "stdout",
     "output_type": "stream",
     "text": [
      "0.552282893071\n"
     ]
    }
   ],
   "source": [
    "drugs_unknown['yhat'] = model.predict(unknown)\n",
    "print(drugs_unknown.yhat.sum() / drugs_unknown.shape[0])"
   ]
  },
  {
   "cell_type": "code",
   "execution_count": 36,
   "metadata": {
    "collapsed": false
   },
   "outputs": [
    {
     "data": {
      "text/plain": [
       "group\n",
       "20    0.243902\n",
       "7     0.245370\n",
       "18    0.295720\n",
       "8     0.312500\n",
       "10    0.313008\n",
       "22    0.352159\n",
       "2     0.388422\n",
       "3     0.436252\n",
       "11    0.461153\n",
       "17    0.482759\n",
       "21    0.500000\n",
       "24    0.501618\n",
       "14    0.506849\n",
       "4     0.517361\n",
       "13    0.577193\n",
       "23    0.585821\n",
       "0     0.593537\n",
       "6     0.598165\n",
       "5     0.621931\n",
       "9     0.626126\n",
       "1     0.631418\n",
       "15    0.649616\n",
       "12    0.660633\n",
       "19    0.661376\n",
       "16    0.840190\n",
       "Name: yhat, dtype: float64"
      ]
     },
     "execution_count": 36,
     "metadata": {},
     "output_type": "execute_result"
    }
   ],
   "source": [
    "drugs_unknown.groupby('group')['yhat'].mean().sort_values()"
   ]
  },
  {
   "cell_type": "markdown",
   "metadata": {},
   "source": [
    "### All Essays"
   ]
  },
  {
   "cell_type": "markdown",
   "metadata": {},
   "source": [
    "\"Tell me something I don't know. Can I predict drug usage status based on text alone? How well? Then, find the terms that are most indicative of drug usage."
   ]
  },
  {
   "cell_type": "code",
   "execution_count": 37,
   "metadata": {
    "collapsed": true
   },
   "outputs": [],
   "source": [
    "essay_list = ['essay' + str(i) for i in range(10)]\n",
    "df_0, df_1, df_2, df_3, df_4, df_5, df_6, df_7, df_8, df_9 = clean_up(df,\n",
    "                                                                      essay_list,\n",
    "                                                                      min_words=0)"
   ]
  },
  {
   "cell_type": "code",
   "execution_count": 38,
   "metadata": {
    "collapsed": false,
    "scrolled": false
   },
   "outputs": [],
   "source": [
    "# combine all essays\n",
    "essays = df_0.essay0.str.cat([df_1.essay1, df_2.essay2, df_3.essay3,\n",
    "                              df_4.essay4, df_5.essay5, df_6.essay6,\n",
    "                              df_7.essay7, df_8.essay8, df_9.essay9], sep=' ')\n",
    "df_0['essays'] = essays\n",
    "\n",
    "df_0 = recategorize(df_0)"
   ]
  },
  {
   "cell_type": "code",
   "execution_count": 39,
   "metadata": {
    "collapsed": false
   },
   "outputs": [
    {
     "data": {
      "text/plain": [
       "((57490, 34), (59946, 32))"
      ]
     },
     "execution_count": 39,
     "metadata": {},
     "output_type": "execute_result"
    }
   ],
   "source": [
    "# only keep observations with more than five tokens\n",
    "all_essays = df_0[df_0.essays.str.split().str.len() > 5]\n",
    "all_essays.shape, df.shape"
   ]
  },
  {
   "cell_type": "code",
   "execution_count": 40,
   "metadata": {
    "collapsed": false
   },
   "outputs": [],
   "source": [
    "# numerical drug usage labels\n",
    "all_essays['labels'] = drug_labels(all_essays)\n",
    "\n",
    "# split on drug usage status\n",
    "drugs_yes = subset_df(all_essays, 'drugs', ['yes'])\n",
    "drugs_no = subset_df(all_essays, 'drugs', ['no'])\n",
    "drugs_unknown = subset_df(all_essays, 'drugs', ['unknown'])\n",
    "\n",
    "# balanced sample of known drug users\n",
    "drugs_known_sample = pd.concat([drugs_no.sample(drugs_yes.shape[0],\n",
    "                                                random_state=42),\n",
    "                                drugs_yes],\n",
    "                               ignore_index=True)"
   ]
  },
  {
   "cell_type": "code",
   "execution_count": 41,
   "metadata": {
    "collapsed": false
   },
   "outputs": [
    {
     "name": "stdout",
     "output_type": "stream",
     "text": [
      "6835\n"
     ]
    }
   ],
   "source": [
    "# vocabulary for all essays\n",
    "_, _, all_vocab = feature_vectors(all_essays.essays, specs)\n",
    "print(len(all_vocab))"
   ]
  },
  {
   "cell_type": "code",
   "execution_count": 42,
   "metadata": {
    "collapsed": true
   },
   "outputs": [],
   "source": [
    "pred_all = {'vocabulary' : all_vocab}\n",
    "_, known, _ = feature_vectors(drugs_known_sample.essays, pred_all)\n",
    "_, unknown, _ = feature_vectors(drugs_unknown.essays, pred_all)"
   ]
  },
  {
   "cell_type": "code",
   "execution_count": 43,
   "metadata": {
    "collapsed": false
   },
   "outputs": [],
   "source": [
    "known_train, known_test, y_train, y_test = train_test_split(known,\n",
    "                                                            drugs_known_sample['labels'],\n",
    "                                                            test_size=0.2, random_state=42)"
   ]
  },
  {
   "cell_type": "code",
   "execution_count": 44,
   "metadata": {
    "collapsed": false
   },
   "outputs": [
    {
     "data": {
      "text/plain": [
       "LogisticRegression(C=1.0, class_weight=None, dual=False, fit_intercept=True,\n",
       "          intercept_scaling=1, max_iter=100, multi_class='ovr', n_jobs=1,\n",
       "          penalty='l2', random_state=None, solver='liblinear', tol=0.0001,\n",
       "          verbose=0, warm_start=False)"
      ]
     },
     "execution_count": 44,
     "metadata": {},
     "output_type": "execute_result"
    }
   ],
   "source": [
    "model = LogisticRegression()\n",
    "model.fit(known_train, y_train)"
   ]
  },
  {
   "cell_type": "code",
   "execution_count": 45,
   "metadata": {
    "collapsed": false
   },
   "outputs": [
    {
     "name": "stdout",
     "output_type": "stream",
     "text": [
      "0.727417302799\n"
     ]
    }
   ],
   "source": [
    "yhat = model.predict(known_test)\n",
    "print(accuracy_score(y_test, yhat))"
   ]
  },
  {
   "cell_type": "code",
   "execution_count": 46,
   "metadata": {
    "collapsed": false
   },
   "outputs": [],
   "source": [
    "drugs_unknown['yhat'] = model.predict(unknown)"
   ]
  },
  {
   "cell_type": "code",
   "execution_count": 47,
   "metadata": {
    "collapsed": false
   },
   "outputs": [
    {
     "name": "stdout",
     "output_type": "stream",
     "text": [
      "0.524143472861\n"
     ]
    }
   ],
   "source": [
    "print(drugs_unknown.yhat.sum() / drugs_unknown.shape[0])"
   ]
  },
  {
   "cell_type": "markdown",
   "metadata": {},
   "source": [
    "#### Most Predictive Terms"
   ]
  },
  {
   "cell_type": "code",
   "execution_count": 48,
   "metadata": {
    "collapsed": false
   },
   "outputs": [],
   "source": [
    "token_dict = {coeff : i for i, coeff in enumerate(model.coef_[0])}"
   ]
  },
  {
   "cell_type": "code",
   "execution_count": 49,
   "metadata": {
    "collapsed": true
   },
   "outputs": [],
   "source": [
    "coefficients = model.coef_[0]\n",
    "coefficients.sort()"
   ]
  },
  {
   "cell_type": "code",
   "execution_count": 50,
   "metadata": {
    "collapsed": false
   },
   "outputs": [],
   "source": [
    "import numpy as np"
   ]
  },
  {
   "cell_type": "code",
   "execution_count": 51,
   "metadata": {
    "collapsed": false
   },
   "outputs": [
    {
     "name": "stdout",
     "output_type": "stream",
     "text": [
      "sex (68.96), shit (45.51), music (20.95), weed (18.46), party (15.54), beer (14.18), dubstep (13.86), fuck (12.28), drinking (11.48), smoking (11.39), partying (10.59), chill (9.45), hair (8.84), park (8.09), fucking (7.93), dj (7.9), burning (7.78), electronic (7.05), drunk (6.67), ass (6.36), reggae (6.18), robbins (5.81), dude (5.74), smoke (5.68), cat (5.5), "
     ]
    }
   ],
   "source": [
    "for i in range(1, 26):\n",
    "    print(all_vocab[token_dict[coefficients[-i]]] + ' (' + \n",
    "          str(np.round(np.exp(coefficients[-i]), 2)) + ')', end=', ')"
   ]
  },
  {
   "cell_type": "code",
   "execution_count": null,
   "metadata": {
    "collapsed": true
   },
   "outputs": [],
   "source": []
  }
 ],
 "metadata": {
  "kernelspec": {
   "display_name": "Python 3",
   "language": "python",
   "name": "python3"
  },
  "language_info": {
   "codemirror_mode": {
    "name": "ipython",
    "version": 3
   },
   "file_extension": ".py",
   "mimetype": "text/x-python",
   "name": "python",
   "nbconvert_exporter": "python",
   "pygments_lexer": "ipython3",
   "version": "3.5.1"
  }
 },
 "nbformat": 4,
 "nbformat_minor": 0
}
