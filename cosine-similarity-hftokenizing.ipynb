{
 "cells": [
  {
   "cell_type": "code",
   "execution_count": 1,
   "metadata": {
    "collapsed": false
   },
   "outputs": [],
   "source": [
    "import re\n",
    "import warnings\n",
    "\n",
    "import numpy as np\n",
    "import pandas as pd\n",
    "import matplotlib.pyplot as plt\n",
    "import seaborn as sns\n",
    "from sklearn.feature_extraction.text import TfidfVectorizer\n",
    "from sklearn.metrics.pairwise import cosine_similarity\n",
    "from sklearn.cluster import MiniBatchKMeans\n",
    "\n",
    "from utils import *\n",
    "\n",
    "%matplotlib inline\n",
    "plt.style.use('ggplot')\n",
    "warnings.filterwarnings('ignore')"
   ]
  },
  {
   "cell_type": "code",
   "execution_count": 2,
   "metadata": {
    "collapsed": true
   },
   "outputs": [],
   "source": [
    "def sentences(s_list):\n",
    "    words = split_on_word(s_list)\n",
    "    words_norm = normalize(words)\n",
    "    return [' '.join(s) for s in words_norm]"
   ]
  },
  {
   "cell_type": "markdown",
   "metadata": {},
   "source": [
    "---"
   ]
  },
  {
   "cell_type": "code",
   "execution_count": 3,
   "metadata": {
    "collapsed": true
   },
   "outputs": [],
   "source": [
    "essay = 'essay5'"
   ]
  },
  {
   "cell_type": "code",
   "execution_count": 4,
   "metadata": {
    "collapsed": false
   },
   "outputs": [],
   "source": [
    "TAG_RE = re.compile(r'<[^>]+>')\n",
    "\n",
    "df = pd.read_csv('data/profiles.20120630.csv')\n",
    "df = df[~df[essay].isnull()]\n",
    "\n",
    "essays = ['essay' + str(i) for i in range(10)]\n",
    "for e in essays:\n",
    "    df[e] = df[e].replace(np.nan, '' , regex=True)    \\\n",
    "                 .replace('\\n', ' ')                  \\\n",
    "                 .apply(lambda x: TAG_RE.sub(' ', x)) \\\n",
    "                 .apply(lambda x: re.sub('\\s+', ' ', x).strip())\n",
    "\n",
    "df.fillna('', inplace=True)\n",
    "df['ethnicity_'] = df.ethnicity.apply(lambda x: 'mixed' if ',' in x else x)"
   ]
  },
  {
   "cell_type": "markdown",
   "metadata": {},
   "source": [
    "---"
   ]
  },
  {
   "cell_type": "code",
   "execution_count": 5,
   "metadata": {
    "collapsed": true
   },
   "outputs": [],
   "source": [
    "df_sample = df.sample(10000, random_state=1868)"
   ]
  },
  {
   "cell_type": "markdown",
   "metadata": {},
   "source": [
    "---"
   ]
  },
  {
   "cell_type": "code",
   "execution_count": 6,
   "metadata": {
    "collapsed": true
   },
   "outputs": [],
   "source": [
    "sents = sentences(df_sample[essay].tolist())"
   ]
  },
  {
   "cell_type": "markdown",
   "metadata": {},
   "source": [
    "---"
   ]
  },
  {
   "cell_type": "code",
   "execution_count": 7,
   "metadata": {
    "collapsed": true
   },
   "outputs": [],
   "source": [
    "tfidf = TfidfVectorizer()\n",
    "M = tfidf.fit_transform(sents)"
   ]
  },
  {
   "cell_type": "code",
   "execution_count": 8,
   "metadata": {
    "collapsed": true
   },
   "outputs": [],
   "source": [
    "cosine_score = cosine_similarity(M, M)"
   ]
  },
  {
   "cell_type": "markdown",
   "metadata": {},
   "source": [
    "---"
   ]
  },
  {
   "cell_type": "code",
   "execution_count": 9,
   "metadata": {
    "collapsed": true
   },
   "outputs": [],
   "source": [
    "K = 4"
   ]
  },
  {
   "cell_type": "code",
   "execution_count": 10,
   "metadata": {
    "collapsed": false
   },
   "outputs": [
    {
     "data": {
      "text/plain": [
       "MiniBatchKMeans(batch_size=100, compute_labels=True, init='k-means++',\n",
       "        init_size=None, max_iter=100, max_no_improvement=10, n_clusters=4,\n",
       "        n_init=3, random_state=1868, reassignment_ratio=0.01, tol=0.0,\n",
       "        verbose=0)"
      ]
     },
     "execution_count": 10,
     "metadata": {},
     "output_type": "execute_result"
    }
   ],
   "source": [
    "mb_kmeans = MiniBatchKMeans(n_clusters=K, random_state=1868)\n",
    "mb_kmeans"
   ]
  },
  {
   "cell_type": "code",
   "execution_count": 11,
   "metadata": {
    "collapsed": false
   },
   "outputs": [
    {
     "data": {
      "text/plain": [
       "MiniBatchKMeans(batch_size=100, compute_labels=True, init='k-means++',\n",
       "        init_size=None, max_iter=100, max_no_improvement=10, n_clusters=4,\n",
       "        n_init=3, random_state=1868, reassignment_ratio=0.01, tol=0.0,\n",
       "        verbose=0)"
      ]
     },
     "execution_count": 11,
     "metadata": {},
     "output_type": "execute_result"
    }
   ],
   "source": [
    "mb_kmeans.fit(cosine_score)"
   ]
  },
  {
   "cell_type": "code",
   "execution_count": 12,
   "metadata": {
    "collapsed": false
   },
   "outputs": [],
   "source": [
    "df_sample['kmeans'] = mb_kmeans.labels_"
   ]
  },
  {
   "cell_type": "markdown",
   "metadata": {},
   "source": [
    "---"
   ]
  },
  {
   "cell_type": "code",
   "execution_count": 13,
   "metadata": {
    "collapsed": false
   },
   "outputs": [
    {
     "data": {
      "text/plain": [
       "white               5654\n",
       "mixed               1144\n",
       "asian               1056\n",
       "                     818\n",
       "hispanic / latin     447\n",
       "black                333\n",
       "other                273\n",
       "indian               159\n",
       "pacific islander      59\n",
       "middle eastern        48\n",
       "native american        9\n",
       "dtype: int64"
      ]
     },
     "execution_count": 13,
     "metadata": {},
     "output_type": "execute_result"
    }
   ],
   "source": [
    "df_sample.ethnicity_.value_counts()"
   ]
  },
  {
   "cell_type": "code",
   "execution_count": 14,
   "metadata": {
    "collapsed": true
   },
   "outputs": [],
   "source": [
    "for c in np.sort(df_sample.kmeans.unique()):\n",
    "    if c == 0:\n",
    "        tdf = df_sample[df_sample.kmeans == c]\n",
    "        tdf_p = pd.DataFrame({str(c) :\n",
    "                              tdf.ethnicity_.value_counts().sort_index()/\\\n",
    "                              tdf.ethnicity_.value_counts().sort_index().sum()}).reset_index()\n",
    "    else:\n",
    "        tdf = df_sample[df_sample.kmeans == c]\n",
    "        tdf_p = pd.merge(tdf_p,\n",
    "                         pd.DataFrame({str(c) :\n",
    "                                       tdf.ethnicity_.value_counts().sort_index()/\\\n",
    "                                       tdf.ethnicity_.value_counts().sort_index().sum()}).reset_index(),\n",
    "                         how='outer',\n",
    "                         on='index')\n",
    "\n",
    "tdf_p.fillna(0)\n",
    "tdf_p.rename(columns={'index':'ethnicity_'}, inplace=True)"
   ]
  },
  {
   "cell_type": "code",
   "execution_count": 15,
   "metadata": {
    "collapsed": false
   },
   "outputs": [
    {
     "data": {
      "text/plain": [
       "<matplotlib.legend.Legend at 0x110fbf4e0>"
      ]
     },
     "execution_count": 15,
     "metadata": {},
     "output_type": "execute_result"
    },
    {
     "data": {
      "image/png": "[encoded data removed]",
      "text/plain": [
       "<matplotlib.figure.Figure at 0x110fbf0b8>"
      ]
     },
     "metadata": {},
     "output_type": "display_data"
    }
   ],
   "source": [
    "tdf_p.plot(alpha=0.75, figsize=(10, 8), kind='bar')\n",
    "\n",
    "plt.xlim(-0.5, len(df_sample.ethnicity_.unique())-0.5)\n",
    "plt.xticks(tdf_p.index, tdf_p.ethnicity_, rotation=90);\n",
    "\n",
    "plt.xlabel('\\nEthnicity')\n",
    "plt.ylabel('Percentage in Cluster')\n",
    "\n",
    "plt.legend(range(K), loc='upper left', title='Cluster')"
   ]
  }
 ],
 "metadata": {
  "kernelspec": {
   "display_name": "Python 3",
   "language": "python",
   "name": "python3"
  },
  "language_info": {
   "codemirror_mode": {
    "name": "ipython",
    "version": 3
   },
   "file_extension": ".py",
   "mimetype": "text/x-python",
   "name": "python",
   "nbconvert_exporter": "python",
   "pygments_lexer": "ipython3",
   "version": "3.4.2"
  }
 },
 "nbformat": 4,
 "nbformat_minor": 0
}
