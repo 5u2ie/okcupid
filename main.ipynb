{
 "cells": [
  {
   "cell_type": "markdown",
   "metadata": {},
   "source": [
    "This notebooks shows how we can use the `make` function in `hashes.py` to return pickled objects by either creating or loading them. The example uses the `pca_dict_50.pkl` file."
   ]
  },
  {
   "cell_type": "code",
   "execution_count": 1,
   "metadata": {
    "collapsed": false
   },
   "outputs": [],
   "source": [
    "import pickle\n",
    "\n",
    "from utils.hash import make\n",
    "from utils.reduce_dimensions import run_PCA"
   ]
  },
  {
   "cell_type": "markdown",
   "metadata": {},
   "source": [
    "Let's load `datamatrix.pkl`, which is an input for `run_PCA`."
   ]
  },
  {
   "cell_type": "code",
   "execution_count": 2,
   "metadata": {
    "collapsed": false
   },
   "outputs": [],
   "source": [
    "X = pickle.load(open('data/datamatrix.pkl', 'rb'))"
   ]
  },
  {
   "cell_type": "markdown",
   "metadata": {},
   "source": [
    "There are three parameters associated with `make`: `fn`, `s`, and `kwargs`. The first is a pickle-making function, such as `run_PCA`. The second is the name of the Python script where that function lives. In our example, it's `reduce_dimensions.py`. `kwargs` is a `dict` that contains the arguments that `fn` requires. `run_PCA`, for example, is defined as follows:\n",
    "\n",
    "```\n",
    "def run_PCA(datamatrix, p, ppath, n_components = 50, force_update = False):\n",
    "    ...\n",
    "```\n",
    "\n",
    "(`p` used to be `filename`.)\n",
    "\n",
    "Note that this has been updated slightly to work with `make` and the associated functions in `hashes.py`. One other important note, as you'll notice below, is that `ppath` doesn't actually need to be specified in `kwargs`. That is taken care of inside of `make`.\n",
    "\n",
    "Because of the `n_components` default value in `run_PCA` (and the fact that `ppath` is added in `make`), we only need to specify two keys and values in `kwargs`: `p` and `datamatrix`."
   ]
  },
  {
   "cell_type": "code",
   "execution_count": 3,
   "metadata": {
    "collapsed": false,
    "scrolled": true
   },
   "outputs": [
    {
     "name": "stdout",
     "output_type": "stream",
     "text": [
      "pca_dict_50.pkl exists\n",
      "the hash for pca_dict_50.pkl matches what's in hashes.json\n",
      "checking whether the script has been updated...\n",
      "it hasn't; loading pca_dict_50.pkl\n"
     ]
    },
    {
     "data": {
      "text/plain": [
       "{'X_reduced': array([[ 0.18461784, -0.59392098,  0.05070021, ..., -0.41726548,\n",
       "         -0.44980572,  1.12606931],\n",
       "        [-0.50393825, -0.35784087,  0.16208498, ...,  1.11070428,\n",
       "         -1.01771069,  1.09786131],\n",
       "        [ 0.41400084, -0.35436631,  0.02021982, ...,  0.12590572,\n",
       "          0.38861386, -0.3308449 ],\n",
       "        ..., \n",
       "        [ 0.17358788, -0.32249302,  0.06982146, ...,  0.4090696 ,\n",
       "         -0.17619902, -0.48538154],\n",
       "        [-0.53240028, -0.7816336 ,  0.14151083, ...,  0.08645779,\n",
       "          0.84967482,  0.16384582],\n",
       "        [ 0.08520294,  0.73222126,  0.01892021, ...,  0.72291067,\n",
       "         -0.47952472, -0.81623336]]),\n",
       " 'pca': PCA(copy=True, n_components=50, whiten=True)}"
      ]
     },
     "execution_count": 3,
     "metadata": {},
     "output_type": "execute_result"
    }
   ],
   "source": [
    "make(run_PCA, 'reduce_dimensions.py',\n",
    "     {'p' : 'pca_dict_50.pkl', 'datamatrix' : X})"
   ]
  },
  {
   "cell_type": "markdown",
   "metadata": {},
   "source": [
    "`make` prints information to let the user know what's happening. In the case above, the pickled object exists and the hash matches what's in `hashes.json`. Because the `reduce_dimensions.py` hasn't been updated&mdash;that is, it isn't newer than `pca_dict_50.pkl`&mdash;`make` simply returns the loaded pickle file.\n",
    "\n",
    "In the example below, we are telling `make` to force an update&mdash;to recreate `pca_dict_50.pkl`."
   ]
  },
  {
   "cell_type": "code",
   "execution_count": 4,
   "metadata": {
    "collapsed": false
   },
   "outputs": [
    {
     "name": "stdout",
     "output_type": "stream",
     "text": [
      "pca_dict_50.pkl exists\n",
      "user forcing update of pca_dict_50.pkl\n",
      "variance explained with 50 components: 0.4505119125117733\n"
     ]
    },
    {
     "data": {
      "text/plain": [
       "(PCA(copy=True, n_components=50, whiten=True),\n",
       " array([[ 0.18461784, -0.59392098,  0.05070021, ..., -0.41726548,\n",
       "         -0.44980572,  1.12606931],\n",
       "        [-0.50393825, -0.35784087,  0.16208498, ...,  1.11070428,\n",
       "         -1.01771069,  1.09786131],\n",
       "        [ 0.41400084, -0.35436631,  0.02021982, ...,  0.12590572,\n",
       "          0.38861386, -0.3308449 ],\n",
       "        ..., \n",
       "        [ 0.17358788, -0.32249302,  0.06982146, ...,  0.4090696 ,\n",
       "         -0.17619902, -0.48538154],\n",
       "        [-0.53240028, -0.7816336 ,  0.14151083, ...,  0.08645779,\n",
       "          0.84967482,  0.16384582],\n",
       "        [ 0.08520294,  0.73222126,  0.01892021, ...,  0.72291067,\n",
       "         -0.47952472, -0.81623336]]))"
      ]
     },
     "execution_count": 4,
     "metadata": {},
     "output_type": "execute_result"
    }
   ],
   "source": [
    "make(run_PCA, 'reduce_dimensions.py',\n",
    "     {'p' : 'pca_dict_50.pkl', 'datamatrix' : X, 'force_update' : True})"
   ]
  }
 ],
 "metadata": {
  "kernelspec": {
   "display_name": "Python 3",
   "language": "python",
   "name": "python3"
  },
  "language_info": {
   "codemirror_mode": {
    "name": "ipython",
    "version": 3
   },
   "file_extension": ".py",
   "mimetype": "text/x-python",
   "name": "python",
   "nbconvert_exporter": "python",
   "pygments_lexer": "ipython3",
   "version": "3.4.2"
  }
 },
 "nbformat": 4,
 "nbformat_minor": 0
}
