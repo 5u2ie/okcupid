{
 "cells": [
  {
   "cell_type": "markdown",
   "metadata": {},
   "source": [
    "This notebook sets up the workflow for the various functions we have implemented. It also shows how we can use the `make` function in `hash.py` to return pickled objects by either creating or loading them. The example uses both the PMI and the PCA-reduced features, but focuses the explanation on the latter."
   ]
  },
  {
   "cell_type": "code",
   "execution_count": 1,
   "metadata": {
    "collapsed": false
   },
   "outputs": [],
   "source": [
    "import pickle\n",
    "import warnings\n",
    "\n",
    "from utils.hash import make\n",
    "from utils.calculate_pmi_features import *\n",
    "from utils.reduce_dimensions import run_PCA\n",
    "\n",
    "warnings.filterwarnings('ignore')"
   ]
  },
  {
   "cell_type": "markdown",
   "metadata": {},
   "source": [
    "Let's load the PMI features."
   ]
  },
  {
   "cell_type": "code",
   "execution_count": 3,
   "metadata": {
    "collapsed": false
   },
   "outputs": [
    {
     "name": "stdout",
     "output_type": "stream",
     "text": [
      "datamatrix.pkl does not exist; creating it\n"
     ]
    },
    {
     "ename": "OSError",
     "evalue": "[Errno 9] Bad file descriptor",
     "output_type": "error",
     "traceback": [
      "\u001b[0;31m---------------------------------------------------------------------------\u001b[0m",
      "\u001b[0;31mOSError\u001b[0m                                   Traceback (most recent call last)",
      "\u001b[0;32m<ipython-input-3-bbacf51304be>\u001b[0m in \u001b[0;36m<module>\u001b[0;34m()\u001b[0m\n\u001b[0;32m----> 1\u001b[0;31m \u001b[0mX\u001b[0m \u001b[0;34m=\u001b[0m \u001b[0mmake\u001b[0m\u001b[0;34m(\u001b[0m\u001b[0mrun_PMI\u001b[0m\u001b[0;34m,\u001b[0m \u001b[0;34m'calculate_pmi_features.py'\u001b[0m\u001b[0;34m,\u001b[0m \u001b[0;34m{\u001b[0m\u001b[0;34m'p'\u001b[0m \u001b[0;34m:\u001b[0m \u001b[0;34m'datamatrix.pkl'\u001b[0m\u001b[0;34m}\u001b[0m\u001b[0;34m)\u001b[0m\u001b[0;34m\u001b[0m\u001b[0m\n\u001b[0m",
      "\u001b[0;32m/Users/csharp93/info256/okcupid/utils/hash.py\u001b[0m in \u001b[0;36mmake\u001b[0;34m(fn, s, kwargs)\u001b[0m\n\u001b[1;32m    162\u001b[0m     \u001b[0;32melse\u001b[0m\u001b[0;34m:\u001b[0m\u001b[0;34m\u001b[0m\u001b[0m\n\u001b[1;32m    163\u001b[0m         \u001b[0mprint\u001b[0m\u001b[0;34m(\u001b[0m\u001b[0;34m'{0} does not exist; creating it'\u001b[0m\u001b[0;34m.\u001b[0m\u001b[0mformat\u001b[0m\u001b[0;34m(\u001b[0m\u001b[0mp\u001b[0m\u001b[0;34m)\u001b[0m\u001b[0;34m)\u001b[0m\u001b[0;34m\u001b[0m\u001b[0m\n\u001b[0;32m--> 164\u001b[0;31m         \u001b[0;32mreturn\u001b[0m \u001b[0mfn\u001b[0m\u001b[0;34m(\u001b[0m\u001b[0;34m**\u001b[0m\u001b[0mkwargs\u001b[0m\u001b[0;34m)\u001b[0m\u001b[0;34m\u001b[0m\u001b[0m\n\u001b[0m",
      "\u001b[0;32m/Users/csharp93/info256/okcupid/utils/calculate_pmi_features.py\u001b[0m in \u001b[0;36mrun_PMI\u001b[0;34m(p, ppath, force_update)\u001b[0m\n\u001b[1;32m    152\u001b[0m     \u001b[0mvocab\u001b[0m \u001b[0;34m=\u001b[0m \u001b[0mgenerate_vocab\u001b[0m\u001b[0;34m(\u001b[0m\u001b[0mfreq_dists\u001b[0m\u001b[0;34m)\u001b[0m\u001b[0;34m\u001b[0m\u001b[0m\n\u001b[1;32m    153\u001b[0m     \u001b[0mvocab\u001b[0m \u001b[0;34m=\u001b[0m \u001b[0mfilter_vocab\u001b[0m\u001b[0;34m(\u001b[0m\u001b[0mmain_df\u001b[0m\u001b[0;34m,\u001b[0m \u001b[0mvocab\u001b[0m\u001b[0;34m,\u001b[0m \u001b[0mstop_dict\u001b[0m\u001b[0;34m)\u001b[0m\u001b[0;34m\u001b[0m\u001b[0m\n\u001b[0;32m--> 154\u001b[0;31m     \u001b[0mdata_matrix\u001b[0m \u001b[0;34m=\u001b[0m \u001b[0mcreate_data_matrix\u001b[0m\u001b[0;34m(\u001b[0m\u001b[0mmain_df\u001b[0m\u001b[0;34m,\u001b[0m \u001b[0mvocab\u001b[0m\u001b[0;34m,\u001b[0m \u001b[0mp\u001b[0m\u001b[0;34m,\u001b[0m \u001b[0mforce_update\u001b[0m\u001b[0;34m)\u001b[0m\u001b[0;34m\u001b[0m\u001b[0m\n\u001b[0m\u001b[1;32m    155\u001b[0m     \u001b[0;32mreturn\u001b[0m \u001b[0mdata_matrix\u001b[0m\u001b[0;34m\u001b[0m\u001b[0m\n",
      "\u001b[0;32m/Users/csharp93/info256/okcupid/utils/calculate_pmi_features.py\u001b[0m in \u001b[0;36mcreate_data_matrix\u001b[0;34m(df, vocab, filename, ppath, force_update)\u001b[0m\n\u001b[1;32m    134\u001b[0m         \u001b[0mdata_matrix_dense\u001b[0m\u001b[0;34m[\u001b[0m\u001b[0mi\u001b[0m\u001b[0;34m,\u001b[0m \u001b[0;34m:\u001b[0m\u001b[0;34m]\u001b[0m \u001b[0;34m=\u001b[0m \u001b[0mdata_matrix_dense\u001b[0m\u001b[0;34m[\u001b[0m\u001b[0mi\u001b[0m\u001b[0;34m,\u001b[0m \u001b[0;34m:\u001b[0m\u001b[0;34m]\u001b[0m \u001b[0;34m/\u001b[0m \u001b[0mlen\u001b[0m\u001b[0;34m(\u001b[0m\u001b[0me\u001b[0m\u001b[0;34m)\u001b[0m\u001b[0;34m\u001b[0m\u001b[0m\n\u001b[1;32m    135\u001b[0m \u001b[0;34m\u001b[0m\u001b[0m\n\u001b[0;32m--> 136\u001b[0;31m     \u001b[0;32mwith\u001b[0m \u001b[0mopen\u001b[0m\u001b[0;34m(\u001b[0m\u001b[0mppath\u001b[0m\u001b[0;34m,\u001b[0m \u001b[0;34m'wb'\u001b[0m\u001b[0;34m)\u001b[0m \u001b[0;32mas\u001b[0m \u001b[0mf\u001b[0m\u001b[0;34m:\u001b[0m\u001b[0;34m\u001b[0m\u001b[0m\n\u001b[0m\u001b[1;32m    137\u001b[0m         \u001b[0mpickle\u001b[0m\u001b[0;34m.\u001b[0m\u001b[0mdump\u001b[0m\u001b[0;34m(\u001b[0m\u001b[0mdata_matrix_dense\u001b[0m\u001b[0;34m,\u001b[0m \u001b[0mf\u001b[0m\u001b[0;34m)\u001b[0m\u001b[0;34m\u001b[0m\u001b[0m\n\u001b[1;32m    138\u001b[0m \u001b[0;34m\u001b[0m\u001b[0m\n",
      "\u001b[0;31mOSError\u001b[0m: [Errno 9] Bad file descriptor"
     ]
    }
   ],
   "source": [
    "X = make(run_PMI, 'calculate_pmi_features.py', {'p' : 'datamatrix.pkl'}) "
   ]
  },
  {
   "cell_type": "markdown",
   "metadata": {},
   "source": [
    "The PMI features are an input for `run_PCA`.\n",
    "\n",
    "For `make`, the function that controls whether the object is loaded or created, there are three parameters: `fn`, `s`, and `kwargs`. The first is a pickle-making function, such as `run_PCA`. The second is the name of the Python script where that function lives. In our example, it's `reduce_dimensions.py`. `kwargs` is a `dict` that contains the arguments that `fn` requires. `run_PCA`, for example, is defined as follows:\n",
    "\n",
    "```\n",
    "def run_PCA(datamatrix, p, ppath, n_components = 50, force_update = False):\n",
    "    ...\n",
    "```\n",
    "\n",
    "(`p` used to be `filename`.)\n",
    "\n",
    "Note that this has been updated slightly to work with `make` and the associated functions in `hashes.py`. One other important note, as you'll see below, is that `ppath` doesn't actually need to be specified in `kwargs`. That is taken care of inside of `make`.\n",
    "\n",
    "Because of the `n_components` default value in `run_PCA` (and the fact that `ppath` is added in `make`), we only need to specify two keys and values in `kwargs`: `p` and `datamatrix`. (For `run_PMI`, all that's needed in `kwargs` is `p`.)"
   ]
  },
  {
   "cell_type": "code",
   "execution_count": 3,
   "metadata": {
    "collapsed": false,
    "scrolled": true
   },
   "outputs": [
    {
     "name": "stdout",
     "output_type": "stream",
     "text": [
      "pca_dict_50.pkl exists\n",
      "the hash for pca_dict_50.pkl matches what's in hashes.json\n",
      "checking whether the script has been updated...\n",
      "it hasn't; loading pca_dict_50.pkl\n"
     ]
    },
    {
     "data": {
      "text/plain": [
       "{'X_reduced': array([[ 0.18461784, -0.59392098,  0.05070021, ..., -0.41726548,\n",
       "         -0.44980572,  1.12606931],\n",
       "        [-0.50393825, -0.35784087,  0.16208498, ...,  1.11070428,\n",
       "         -1.01771069,  1.09786131],\n",
       "        [ 0.41400084, -0.35436631,  0.02021982, ...,  0.12590572,\n",
       "          0.38861386, -0.3308449 ],\n",
       "        ..., \n",
       "        [ 0.17358788, -0.32249302,  0.06982146, ...,  0.4090696 ,\n",
       "         -0.17619902, -0.48538154],\n",
       "        [-0.53240028, -0.7816336 ,  0.14151083, ...,  0.08645779,\n",
       "          0.84967482,  0.16384582],\n",
       "        [ 0.08520294,  0.73222126,  0.01892021, ...,  0.72291067,\n",
       "         -0.47952472, -0.81623336]]),\n",
       " 'pca': PCA(copy=True, n_components=50, whiten=True)}"
      ]
     },
     "execution_count": 3,
     "metadata": {},
     "output_type": "execute_result"
    }
   ],
   "source": [
    "make(run_PCA, 'reduce_dimensions.py',\n",
    "     {'p' : 'pca_dict_50.pkl', 'datamatrix' : X})"
   ]
  },
  {
   "cell_type": "markdown",
   "metadata": {},
   "source": [
    "`make` prints information to let the user know what's happening. In the case above, the pickled object exists and the hash matches what's in `hashes.json`. Because the `reduce_dimensions.py` hasn't been updated&mdash;that is, it isn't newer than `pca_dict_50.pkl`&mdash;`make` simply returns the loaded pickle file.\n",
    "\n",
    "In the example below, we are telling `make` to force an update&mdash;to recreate `pca_dict_50.pkl`. This will also update the hash value in `hashes.json`. Because the object is the same in this case&mdash;we have not changed anything about how the object is created&mdash;the value is the same."
   ]
  },
  {
   "cell_type": "code",
   "execution_count": 4,
   "metadata": {
    "collapsed": false
   },
   "outputs": [
    {
     "name": "stdout",
     "output_type": "stream",
     "text": [
      "pca_dict_50.pkl exists\n",
      "user forcing update of pca_dict_50.pkl\n",
      "variance explained with 50 components: 0.4505119125117733\n"
     ]
    },
    {
     "data": {
      "text/plain": [
       "(PCA(copy=True, n_components=50, whiten=True),\n",
       " array([[ 0.18461784, -0.59392098,  0.05070021, ..., -0.41726548,\n",
       "         -0.44980572,  1.12606931],\n",
       "        [-0.50393825, -0.35784087,  0.16208498, ...,  1.11070428,\n",
       "         -1.01771069,  1.09786131],\n",
       "        [ 0.41400084, -0.35436631,  0.02021982, ...,  0.12590572,\n",
       "          0.38861386, -0.3308449 ],\n",
       "        ..., \n",
       "        [ 0.17358788, -0.32249302,  0.06982146, ...,  0.4090696 ,\n",
       "         -0.17619902, -0.48538154],\n",
       "        [-0.53240028, -0.7816336 ,  0.14151083, ...,  0.08645779,\n",
       "          0.84967482,  0.16384582],\n",
       "        [ 0.08520294,  0.73222126,  0.01892021, ...,  0.72291067,\n",
       "         -0.47952472, -0.81623336]]))"
      ]
     },
     "execution_count": 4,
     "metadata": {},
     "output_type": "execute_result"
    }
   ],
   "source": [
    "make(run_PCA, 'reduce_dimensions.py',\n",
    "     {'p' : 'pca_dict_50.pkl', 'datamatrix' : X, 'force_update' : True})"
   ]
  },
  {
   "cell_type": "code",
   "execution_count": null,
   "metadata": {
    "collapsed": true
   },
   "outputs": [],
   "source": []
  }
 ],
 "metadata": {
  "kernelspec": {
   "display_name": "Python 3",
   "language": "python",
   "name": "python3"
  },
  "language_info": {
   "codemirror_mode": {
    "name": "ipython",
    "version": 3
   },
   "file_extension": ".py",
   "mimetype": "text/x-python",
   "name": "python",
   "nbconvert_exporter": "python",
   "pygments_lexer": "ipython3",
   "version": "3.3.5"
  }
 },
 "nbformat": 4,
 "nbformat_minor": 0
}
